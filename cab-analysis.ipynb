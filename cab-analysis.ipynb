{
 "cells": [
  {
   "cell_type": "markdown",
   "id": "d3ff39d2",
   "metadata": {},
   "source": [
    "# ------------------------------------- BUISNESS PROBLEM -----------------------------------------"
   ]
  },
  {
   "cell_type": "markdown",
   "id": "e74d726f",
   "metadata": {},
   "source": [
    "The business problem tackled here is trying to improve customer\n",
    "service for YourCabs.com, a cab company in Bangalore.\n",
    "\n",
    "The problem of interest is booking cancellations by the company\n",
    "due to unavailability of a car. The challenge is that cancellations\n",
    "can occur very close to the trip start time, thereby causing\n",
    "passengers inconvenience."
   ]
  },
  {
   "cell_type": "markdown",
   "id": "b25391b6",
   "metadata": {},
   "source": [
    "Importing the libraries"
   ]
  },
  {
   "cell_type": "code",
   "execution_count": 1,
   "id": "5b8854d6",
   "metadata": {},
   "outputs": [],
   "source": [
    "import numpy as np\n",
    "import pandas as pd\n",
    "import matplotlib.pyplot as plt\n",
    "%matplotlib inline\n",
    "import seaborn as sns\n",
    "import scipy.stats as stats\n",
    "\n",
    "from sklearn.model_selection import train_test_split\n",
    "from sklearn.linear_model import LogisticRegression\n",
    "from sklearn.tree import DecisionTreeClassifier\n",
    "from sklearn.ensemble import RandomForestClassifier, GradientBoostingClassifier, AdaBoostClassifier\n",
    "from sklearn.svm import SVC\n",
    "from patsy import dmatrices\n",
    "import statsmodels.formula.api as smf\n",
    "from statsmodels.stats.outliers_influence import variance_inflation_factor\n",
    "\n",
    "from sklearn.preprocessing import StandardScaler\n",
    "from sklearn.metrics import accuracy_score, precision_score, recall_score, f1_score\n",
    "from sklearn.model_selection import StratifiedKFold, cross_val_score\n",
    "\n"
   ]
  },
  {
   "cell_type": "markdown",
   "id": "cc6ab1c9",
   "metadata": {},
   "source": [
    "Reading the Dataset"
   ]
  },
  {
   "cell_type": "code",
   "execution_count": 2,
   "id": "c2cd35f2",
   "metadata": {},
   "outputs": [
    {
     "name": "stdout",
     "output_type": "stream",
     "text": [
      "C:\\Users\\Welcome\\Desktop\\Power_Bi\\Python\\cen\n"
     ]
    }
   ],
   "source": [
    "%cd \"C:\\Users\\Welcome\\Desktop\\Power_Bi\\Python\\cen\"\n",
    "df = pd.read_csv('YourCabs_training.csv')"
   ]
  },
  {
   "cell_type": "markdown",
   "id": "6b10ce76",
   "metadata": {},
   "source": [
    "Exploring the dataset"
   ]
  },
  {
   "cell_type": "code",
   "execution_count": 3,
   "id": "577550e3",
   "metadata": {},
   "outputs": [
    {
     "data": {
      "text/html": [
       "<div>\n",
       "<style scoped>\n",
       "    .dataframe tbody tr th:only-of-type {\n",
       "        vertical-align: middle;\n",
       "    }\n",
       "\n",
       "    .dataframe tbody tr th {\n",
       "        vertical-align: top;\n",
       "    }\n",
       "\n",
       "    .dataframe thead th {\n",
       "        text-align: right;\n",
       "    }\n",
       "</style>\n",
       "<table border=\"1\" class=\"dataframe\">\n",
       "  <thead>\n",
       "    <tr style=\"text-align: right;\">\n",
       "      <th></th>\n",
       "      <th>0</th>\n",
       "      <th>1</th>\n",
       "      <th>2</th>\n",
       "      <th>3</th>\n",
       "      <th>4</th>\n",
       "    </tr>\n",
       "  </thead>\n",
       "  <tbody>\n",
       "    <tr>\n",
       "      <th>id</th>\n",
       "      <td>132512</td>\n",
       "      <td>132513</td>\n",
       "      <td>132514</td>\n",
       "      <td>132515</td>\n",
       "      <td>132517</td>\n",
       "    </tr>\n",
       "    <tr>\n",
       "      <th>user_id</th>\n",
       "      <td>22177</td>\n",
       "      <td>21413</td>\n",
       "      <td>22178</td>\n",
       "      <td>13034</td>\n",
       "      <td>22180</td>\n",
       "    </tr>\n",
       "    <tr>\n",
       "      <th>vehicle_model_id</th>\n",
       "      <td>28</td>\n",
       "      <td>12</td>\n",
       "      <td>12</td>\n",
       "      <td>12</td>\n",
       "      <td>12</td>\n",
       "    </tr>\n",
       "    <tr>\n",
       "      <th>package_id</th>\n",
       "      <td>NaN</td>\n",
       "      <td>NaN</td>\n",
       "      <td>NaN</td>\n",
       "      <td>NaN</td>\n",
       "      <td>NaN</td>\n",
       "    </tr>\n",
       "    <tr>\n",
       "      <th>travel_type_id</th>\n",
       "      <td>2</td>\n",
       "      <td>2</td>\n",
       "      <td>2</td>\n",
       "      <td>2</td>\n",
       "      <td>2</td>\n",
       "    </tr>\n",
       "    <tr>\n",
       "      <th>from_area_id</th>\n",
       "      <td>83.0</td>\n",
       "      <td>1010.0</td>\n",
       "      <td>1301.0</td>\n",
       "      <td>768.0</td>\n",
       "      <td>1365.0</td>\n",
       "    </tr>\n",
       "    <tr>\n",
       "      <th>to_area_id</th>\n",
       "      <td>448.0</td>\n",
       "      <td>540.0</td>\n",
       "      <td>1034.0</td>\n",
       "      <td>398.0</td>\n",
       "      <td>849.0</td>\n",
       "    </tr>\n",
       "    <tr>\n",
       "      <th>from_city_id</th>\n",
       "      <td>NaN</td>\n",
       "      <td>NaN</td>\n",
       "      <td>NaN</td>\n",
       "      <td>NaN</td>\n",
       "      <td>NaN</td>\n",
       "    </tr>\n",
       "    <tr>\n",
       "      <th>to_city_id</th>\n",
       "      <td>NaN</td>\n",
       "      <td>NaN</td>\n",
       "      <td>NaN</td>\n",
       "      <td>NaN</td>\n",
       "      <td>NaN</td>\n",
       "    </tr>\n",
       "    <tr>\n",
       "      <th>from_date</th>\n",
       "      <td>1/1/2013 2:00</td>\n",
       "      <td>1/1/2013 9:00</td>\n",
       "      <td>1/1/2013 3:30</td>\n",
       "      <td>1/1/2013 5:45</td>\n",
       "      <td>1/1/2013 9:00</td>\n",
       "    </tr>\n",
       "    <tr>\n",
       "      <th>to_date</th>\n",
       "      <td>NaN</td>\n",
       "      <td>NaN</td>\n",
       "      <td>NaN</td>\n",
       "      <td>NaN</td>\n",
       "      <td>NaN</td>\n",
       "    </tr>\n",
       "    <tr>\n",
       "      <th>online_booking</th>\n",
       "      <td>0</td>\n",
       "      <td>0</td>\n",
       "      <td>0</td>\n",
       "      <td>0</td>\n",
       "      <td>0</td>\n",
       "    </tr>\n",
       "    <tr>\n",
       "      <th>mobile_site_booking</th>\n",
       "      <td>0</td>\n",
       "      <td>0</td>\n",
       "      <td>0</td>\n",
       "      <td>0</td>\n",
       "      <td>0</td>\n",
       "    </tr>\n",
       "    <tr>\n",
       "      <th>booking_created</th>\n",
       "      <td>1/1/2013 1:39</td>\n",
       "      <td>1/1/2013 2:25</td>\n",
       "      <td>1/1/2013 3:08</td>\n",
       "      <td>1/1/2013 4:39</td>\n",
       "      <td>1/1/2013 7:53</td>\n",
       "    </tr>\n",
       "    <tr>\n",
       "      <th>from_lat</th>\n",
       "      <td>12.92415</td>\n",
       "      <td>12.96691</td>\n",
       "      <td>12.937222</td>\n",
       "      <td>12.98999</td>\n",
       "      <td>12.845653</td>\n",
       "    </tr>\n",
       "    <tr>\n",
       "      <th>from_long</th>\n",
       "      <td>77.67229</td>\n",
       "      <td>77.74935</td>\n",
       "      <td>77.626915</td>\n",
       "      <td>77.55332</td>\n",
       "      <td>77.677925</td>\n",
       "    </tr>\n",
       "    <tr>\n",
       "      <th>to_lat</th>\n",
       "      <td>12.92732</td>\n",
       "      <td>12.92768</td>\n",
       "      <td>13.047926</td>\n",
       "      <td>12.97143</td>\n",
       "      <td>12.95434</td>\n",
       "    </tr>\n",
       "    <tr>\n",
       "      <th>to_long</th>\n",
       "      <td>77.63575</td>\n",
       "      <td>77.62664</td>\n",
       "      <td>77.597766</td>\n",
       "      <td>77.63914</td>\n",
       "      <td>77.60072</td>\n",
       "    </tr>\n",
       "    <tr>\n",
       "      <th>Car_Cancellation</th>\n",
       "      <td>0</td>\n",
       "      <td>0</td>\n",
       "      <td>0</td>\n",
       "      <td>0</td>\n",
       "      <td>0</td>\n",
       "    </tr>\n",
       "    <tr>\n",
       "      <th>Cost_of_error</th>\n",
       "      <td>1.0</td>\n",
       "      <td>1.0</td>\n",
       "      <td>1.0</td>\n",
       "      <td>1.0</td>\n",
       "      <td>1.0</td>\n",
       "    </tr>\n",
       "  </tbody>\n",
       "</table>\n",
       "</div>"
      ],
      "text/plain": [
       "                                 0              1              2  \\\n",
       "id                          132512         132513         132514   \n",
       "user_id                      22177          21413          22178   \n",
       "vehicle_model_id                28             12             12   \n",
       "package_id                     NaN            NaN            NaN   \n",
       "travel_type_id                   2              2              2   \n",
       "from_area_id                  83.0         1010.0         1301.0   \n",
       "to_area_id                   448.0          540.0         1034.0   \n",
       "from_city_id                   NaN            NaN            NaN   \n",
       "to_city_id                     NaN            NaN            NaN   \n",
       "from_date            1/1/2013 2:00  1/1/2013 9:00  1/1/2013 3:30   \n",
       "to_date                        NaN            NaN            NaN   \n",
       "online_booking                   0              0              0   \n",
       "mobile_site_booking              0              0              0   \n",
       "booking_created      1/1/2013 1:39  1/1/2013 2:25  1/1/2013 3:08   \n",
       "from_lat                  12.92415       12.96691      12.937222   \n",
       "from_long                 77.67229       77.74935      77.626915   \n",
       "to_lat                    12.92732       12.92768      13.047926   \n",
       "to_long                   77.63575       77.62664      77.597766   \n",
       "Car_Cancellation                 0              0              0   \n",
       "Cost_of_error                  1.0            1.0            1.0   \n",
       "\n",
       "                                 3              4  \n",
       "id                          132515         132517  \n",
       "user_id                      13034          22180  \n",
       "vehicle_model_id                12             12  \n",
       "package_id                     NaN            NaN  \n",
       "travel_type_id                   2              2  \n",
       "from_area_id                 768.0         1365.0  \n",
       "to_area_id                   398.0          849.0  \n",
       "from_city_id                   NaN            NaN  \n",
       "to_city_id                     NaN            NaN  \n",
       "from_date            1/1/2013 5:45  1/1/2013 9:00  \n",
       "to_date                        NaN            NaN  \n",
       "online_booking                   0              0  \n",
       "mobile_site_booking              0              0  \n",
       "booking_created      1/1/2013 4:39  1/1/2013 7:53  \n",
       "from_lat                  12.98999      12.845653  \n",
       "from_long                 77.55332      77.677925  \n",
       "to_lat                    12.97143       12.95434  \n",
       "to_long                   77.63914       77.60072  \n",
       "Car_Cancellation                 0              0  \n",
       "Cost_of_error                  1.0            1.0  "
      ]
     },
     "execution_count": 3,
     "metadata": {},
     "output_type": "execute_result"
    }
   ],
   "source": [
    "df.head().T"
   ]
  },
  {
   "cell_type": "markdown",
   "id": "62a60978",
   "metadata": {},
   "source": [
    "# Columns Description."
   ]
  },
  {
   "cell_type": "markdown",
   "id": "e8f15635",
   "metadata": {},
   "source": [
    "\n",
    "\n",
    "id - booking ID\n",
    "\n",
    "user_id - the ID of the customer (based on mobile number)\n",
    "\n",
    "vehicle_model_id - vehicle model type.\n",
    "\n",
    "package_id - type of package (1=4hrs & 40kms, 2=8hrs & 80kms, 3=6hrs & 60kms, 4= 10hrs & 100kms, 5=5hrs & 50kms, 6=3hrs &\n",
    "30kms, 7=12hrs & 120kms)\n",
    "\n",
    "travel_type_id - type of travel (1=long distance, 2= point to point, 3= hourly rental).\n",
    "\n",
    "from_area_id - unique identifier of area. Applicable only for point-to-point travel and packages\n",
    "\n",
    "to_area_id - unique identifier of area. Applicable only for point-to-point travel\n",
    "\n",
    "from_city_id - unique identifier of city\n",
    "\n",
    "to_city_id - unique identifier of city (only for intercity)\n",
    "\n",
    "from_date - time stamp of requested trip start\n",
    "\n",
    "to_date - time stamp of trip end\n",
    "\n",
    "online_booking - if booking was done on desktop website\n",
    "\n",
    "mobile_site_booking - if booking was done on mobile website\n",
    "\n",
    "booking_created - time stamp of booking\n",
    "\n",
    "from_lat - latitude of from area\n",
    "\n",
    "from_long - longitude of from area\n",
    "\n",
    "to_lat - latitude of to area\n",
    "\n",
    "to_long - longitude of to area\n",
    "\n",
    "Car_Cancellation (available only in training data) - whether the booking was cancelled (1) or not (0) due to unavailability of a car.\n",
    "\n",
    "Cost_of_error (available only in training data) - the cost incurred if the booking is misclassified. For an un-cancelled booking, the cost of\n",
    "misclassificaiton is 1. For a cancelled booking, the cost is a function of the cancellation time relative to the trip start time\n",
    "\n"
   ]
  },
  {
   "cell_type": "markdown",
   "id": "57c964b1",
   "metadata": {},
   "source": [
    "# Exploring the Dataset"
   ]
  },
  {
   "cell_type": "code",
   "execution_count": 90,
   "id": "d575264c",
   "metadata": {},
   "outputs": [
    {
     "data": {
      "text/html": [
       "<div>\n",
       "<style scoped>\n",
       "    .dataframe tbody tr th:only-of-type {\n",
       "        vertical-align: middle;\n",
       "    }\n",
       "\n",
       "    .dataframe tbody tr th {\n",
       "        vertical-align: top;\n",
       "    }\n",
       "\n",
       "    .dataframe thead th {\n",
       "        text-align: right;\n",
       "    }\n",
       "</style>\n",
       "<table border=\"1\" class=\"dataframe\">\n",
       "  <thead>\n",
       "    <tr style=\"text-align: right;\">\n",
       "      <th></th>\n",
       "      <th>id</th>\n",
       "      <th>user_id</th>\n",
       "      <th>vehicle_model_id</th>\n",
       "      <th>package_id</th>\n",
       "      <th>travel_type_id</th>\n",
       "      <th>from_area_id</th>\n",
       "      <th>to_area_id</th>\n",
       "      <th>from_city_id</th>\n",
       "      <th>to_city_id</th>\n",
       "      <th>from_date</th>\n",
       "      <th>...</th>\n",
       "      <th>booking_created</th>\n",
       "      <th>from_lat</th>\n",
       "      <th>from_long</th>\n",
       "      <th>to_lat</th>\n",
       "      <th>to_long</th>\n",
       "      <th>Car_Cancellation</th>\n",
       "      <th>Cost_of_error</th>\n",
       "      <th>time_gap</th>\n",
       "      <th>weekday</th>\n",
       "      <th>hour</th>\n",
       "    </tr>\n",
       "  </thead>\n",
       "  <tbody>\n",
       "    <tr>\n",
       "      <th>0</th>\n",
       "      <td>132512</td>\n",
       "      <td>22177</td>\n",
       "      <td>28</td>\n",
       "      <td>NaN</td>\n",
       "      <td>2</td>\n",
       "      <td>83.0</td>\n",
       "      <td>448.0</td>\n",
       "      <td>NaN</td>\n",
       "      <td>NaN</td>\n",
       "      <td>2013-01-01 02:00:00</td>\n",
       "      <td>...</td>\n",
       "      <td>2013-01-01 01:39:00</td>\n",
       "      <td>12.924150</td>\n",
       "      <td>77.672290</td>\n",
       "      <td>12.927320</td>\n",
       "      <td>77.635750</td>\n",
       "      <td>0</td>\n",
       "      <td>1.0</td>\n",
       "      <td>1260.0</td>\n",
       "      <td>Tuesday</td>\n",
       "      <td>2</td>\n",
       "    </tr>\n",
       "    <tr>\n",
       "      <th>1</th>\n",
       "      <td>132513</td>\n",
       "      <td>21413</td>\n",
       "      <td>12</td>\n",
       "      <td>NaN</td>\n",
       "      <td>2</td>\n",
       "      <td>1010.0</td>\n",
       "      <td>540.0</td>\n",
       "      <td>NaN</td>\n",
       "      <td>NaN</td>\n",
       "      <td>2013-01-01 09:00:00</td>\n",
       "      <td>...</td>\n",
       "      <td>2013-01-01 02:25:00</td>\n",
       "      <td>12.966910</td>\n",
       "      <td>77.749350</td>\n",
       "      <td>12.927680</td>\n",
       "      <td>77.626640</td>\n",
       "      <td>0</td>\n",
       "      <td>1.0</td>\n",
       "      <td>23700.0</td>\n",
       "      <td>Tuesday</td>\n",
       "      <td>9</td>\n",
       "    </tr>\n",
       "    <tr>\n",
       "      <th>2</th>\n",
       "      <td>132514</td>\n",
       "      <td>22178</td>\n",
       "      <td>12</td>\n",
       "      <td>NaN</td>\n",
       "      <td>2</td>\n",
       "      <td>1301.0</td>\n",
       "      <td>1034.0</td>\n",
       "      <td>NaN</td>\n",
       "      <td>NaN</td>\n",
       "      <td>2013-01-01 03:30:00</td>\n",
       "      <td>...</td>\n",
       "      <td>2013-01-01 03:08:00</td>\n",
       "      <td>12.937222</td>\n",
       "      <td>77.626915</td>\n",
       "      <td>13.047926</td>\n",
       "      <td>77.597766</td>\n",
       "      <td>0</td>\n",
       "      <td>1.0</td>\n",
       "      <td>1320.0</td>\n",
       "      <td>Tuesday</td>\n",
       "      <td>3</td>\n",
       "    </tr>\n",
       "    <tr>\n",
       "      <th>3</th>\n",
       "      <td>132515</td>\n",
       "      <td>13034</td>\n",
       "      <td>12</td>\n",
       "      <td>NaN</td>\n",
       "      <td>2</td>\n",
       "      <td>768.0</td>\n",
       "      <td>398.0</td>\n",
       "      <td>NaN</td>\n",
       "      <td>NaN</td>\n",
       "      <td>2013-01-01 05:45:00</td>\n",
       "      <td>...</td>\n",
       "      <td>2013-01-01 04:39:00</td>\n",
       "      <td>12.989990</td>\n",
       "      <td>77.553320</td>\n",
       "      <td>12.971430</td>\n",
       "      <td>77.639140</td>\n",
       "      <td>0</td>\n",
       "      <td>1.0</td>\n",
       "      <td>3960.0</td>\n",
       "      <td>Tuesday</td>\n",
       "      <td>5</td>\n",
       "    </tr>\n",
       "    <tr>\n",
       "      <th>4</th>\n",
       "      <td>132517</td>\n",
       "      <td>22180</td>\n",
       "      <td>12</td>\n",
       "      <td>NaN</td>\n",
       "      <td>2</td>\n",
       "      <td>1365.0</td>\n",
       "      <td>849.0</td>\n",
       "      <td>NaN</td>\n",
       "      <td>NaN</td>\n",
       "      <td>2013-01-01 09:00:00</td>\n",
       "      <td>...</td>\n",
       "      <td>2013-01-01 07:53:00</td>\n",
       "      <td>12.845653</td>\n",
       "      <td>77.677925</td>\n",
       "      <td>12.954340</td>\n",
       "      <td>77.600720</td>\n",
       "      <td>0</td>\n",
       "      <td>1.0</td>\n",
       "      <td>4020.0</td>\n",
       "      <td>Tuesday</td>\n",
       "      <td>9</td>\n",
       "    </tr>\n",
       "  </tbody>\n",
       "</table>\n",
       "<p>5 rows × 23 columns</p>\n",
       "</div>"
      ],
      "text/plain": [
       "       id  user_id  vehicle_model_id  package_id  travel_type_id  \\\n",
       "0  132512    22177                28         NaN               2   \n",
       "1  132513    21413                12         NaN               2   \n",
       "2  132514    22178                12         NaN               2   \n",
       "3  132515    13034                12         NaN               2   \n",
       "4  132517    22180                12         NaN               2   \n",
       "\n",
       "   from_area_id  to_area_id  from_city_id  to_city_id           from_date  \\\n",
       "0          83.0       448.0           NaN         NaN 2013-01-01 02:00:00   \n",
       "1        1010.0       540.0           NaN         NaN 2013-01-01 09:00:00   \n",
       "2        1301.0      1034.0           NaN         NaN 2013-01-01 03:30:00   \n",
       "3         768.0       398.0           NaN         NaN 2013-01-01 05:45:00   \n",
       "4        1365.0       849.0           NaN         NaN 2013-01-01 09:00:00   \n",
       "\n",
       "   ...     booking_created   from_lat  from_long     to_lat    to_long  \\\n",
       "0  ... 2013-01-01 01:39:00  12.924150  77.672290  12.927320  77.635750   \n",
       "1  ... 2013-01-01 02:25:00  12.966910  77.749350  12.927680  77.626640   \n",
       "2  ... 2013-01-01 03:08:00  12.937222  77.626915  13.047926  77.597766   \n",
       "3  ... 2013-01-01 04:39:00  12.989990  77.553320  12.971430  77.639140   \n",
       "4  ... 2013-01-01 07:53:00  12.845653  77.677925  12.954340  77.600720   \n",
       "\n",
       "   Car_Cancellation  Cost_of_error  time_gap  weekday  hour  \n",
       "0                 0            1.0    1260.0  Tuesday     2  \n",
       "1                 0            1.0   23700.0  Tuesday     9  \n",
       "2                 0            1.0    1320.0  Tuesday     3  \n",
       "3                 0            1.0    3960.0  Tuesday     5  \n",
       "4                 0            1.0    4020.0  Tuesday     9  \n",
       "\n",
       "[5 rows x 23 columns]"
      ]
     },
     "execution_count": 90,
     "metadata": {},
     "output_type": "execute_result"
    }
   ],
   "source": [
    "df.head()"
   ]
  },
  {
   "cell_type": "code",
   "execution_count": 5,
   "id": "6a3258af",
   "metadata": {},
   "outputs": [],
   "source": [
    "def continous_summary(x):\n",
    "    n_total = x.shape[0]\n",
    "    n_miss = x.isna().sum()\n",
    "    n_per_miss = n_miss*100/n_total\n",
    "    \n",
    "    q1 = x.quantile(0.25)\n",
    "    q3 = x.quantile(0.75)\n",
    "    iqr = q3 - q1\n",
    "    lc_iqr = q1 - 1.5*iqr\n",
    "    uc_iqr = q3 + 1.5*iqr\n",
    "    \n",
    "    return pd.Series([x.dtype,n_total,x.count(),x.nunique(),n_miss,n_per_miss,x.sum(),x.mean(),x.std(),x.var(),x.min(),\n",
    "                      x.quantile(0.01), x.quantile(0.05), x.quantile(0.10), x.quantile(0.25), x.quantile(0.50), x.quantile(0.75),\n",
    "                       x.quantile(0.90), x.quantile(0.95), x.quantile(0.99),x.max()],\n",
    "                      \n",
    "                     index=['dtype','total','count','no of unique','total miss','per_miss','sum','avg','sd','var','min',\n",
    "                           'p(0.01)','p(0.05)','p(0.10)','p(0.25)','p(0.50)','p(0.75)','p(0.90)','p(0.95)','p(0.99)','max'\n",
    "                           ]\n",
    "                     \n",
    "                     )"
   ]
  },
  {
   "cell_type": "code",
   "execution_count": 6,
   "id": "90989175",
   "metadata": {},
   "outputs": [
    {
     "name": "stdout",
     "output_type": "stream",
     "text": [
      "<class 'pandas.core.frame.DataFrame'>\n",
      "RangeIndex: 43431 entries, 0 to 43430\n",
      "Data columns (total 20 columns):\n",
      " #   Column               Non-Null Count  Dtype  \n",
      "---  ------               --------------  -----  \n",
      " 0   id                   43431 non-null  int64  \n",
      " 1   user_id              43431 non-null  int64  \n",
      " 2   vehicle_model_id     43431 non-null  int64  \n",
      " 3   package_id           7550 non-null   float64\n",
      " 4   travel_type_id       43431 non-null  int64  \n",
      " 5   from_area_id         43343 non-null  float64\n",
      " 6   to_area_id           34293 non-null  float64\n",
      " 7   from_city_id         16345 non-null  float64\n",
      " 8   to_city_id           1588 non-null   float64\n",
      " 9   from_date            43431 non-null  object \n",
      " 10  to_date              25541 non-null  float64\n",
      " 11  online_booking       43431 non-null  int64  \n",
      " 12  mobile_site_booking  43431 non-null  int64  \n",
      " 13  booking_created      43431 non-null  object \n",
      " 14  from_lat             43338 non-null  float64\n",
      " 15  from_long            43338 non-null  float64\n",
      " 16  to_lat               34293 non-null  float64\n",
      " 17  to_long              34293 non-null  float64\n",
      " 18  Car_Cancellation     43431 non-null  int64  \n",
      " 19  Cost_of_error        43431 non-null  float64\n",
      "dtypes: float64(11), int64(7), object(2)\n",
      "memory usage: 6.6+ MB\n"
     ]
    }
   ],
   "source": [
    "# Reading the Columns in dataset\n",
    "\n",
    "df.info()"
   ]
  },
  {
   "cell_type": "code",
   "execution_count": 7,
   "id": "55b9bec9",
   "metadata": {},
   "outputs": [
    {
     "data": {
      "text/plain": [
       "(43431, 20)"
      ]
     },
     "execution_count": 7,
     "metadata": {},
     "output_type": "execute_result"
    }
   ],
   "source": [
    "# Dimensions of the dataset\n",
    "\n",
    "df.shape"
   ]
  },
  {
   "cell_type": "code",
   "execution_count": 8,
   "id": "f6e3d358",
   "metadata": {},
   "outputs": [],
   "source": [
    "# Seperating columns in dataset\n",
    "\n",
    "df_continous = df.select_dtypes(exclude='object')\n",
    "df_categorical = df.select_dtypes(include='object')"
   ]
  },
  {
   "cell_type": "code",
   "execution_count": 9,
   "id": "2703bfdc",
   "metadata": {},
   "outputs": [
    {
     "data": {
      "text/html": [
       "<div>\n",
       "<style scoped>\n",
       "    .dataframe tbody tr th:only-of-type {\n",
       "        vertical-align: middle;\n",
       "    }\n",
       "\n",
       "    .dataframe tbody tr th {\n",
       "        vertical-align: top;\n",
       "    }\n",
       "\n",
       "    .dataframe thead th {\n",
       "        text-align: right;\n",
       "    }\n",
       "</style>\n",
       "<table border=\"1\" class=\"dataframe\">\n",
       "  <thead>\n",
       "    <tr style=\"text-align: right;\">\n",
       "      <th></th>\n",
       "      <th>id</th>\n",
       "      <th>user_id</th>\n",
       "      <th>vehicle_model_id</th>\n",
       "      <th>package_id</th>\n",
       "      <th>travel_type_id</th>\n",
       "      <th>from_area_id</th>\n",
       "      <th>to_area_id</th>\n",
       "      <th>from_city_id</th>\n",
       "      <th>to_city_id</th>\n",
       "      <th>to_date</th>\n",
       "      <th>online_booking</th>\n",
       "      <th>mobile_site_booking</th>\n",
       "      <th>from_lat</th>\n",
       "      <th>from_long</th>\n",
       "      <th>to_lat</th>\n",
       "      <th>to_long</th>\n",
       "      <th>Car_Cancellation</th>\n",
       "      <th>Cost_of_error</th>\n",
       "    </tr>\n",
       "  </thead>\n",
       "  <tbody>\n",
       "    <tr>\n",
       "      <th>dtype</th>\n",
       "      <td>int64</td>\n",
       "      <td>int64</td>\n",
       "      <td>int64</td>\n",
       "      <td>float64</td>\n",
       "      <td>int64</td>\n",
       "      <td>float64</td>\n",
       "      <td>float64</td>\n",
       "      <td>float64</td>\n",
       "      <td>float64</td>\n",
       "      <td>float64</td>\n",
       "      <td>int64</td>\n",
       "      <td>int64</td>\n",
       "      <td>float64</td>\n",
       "      <td>float64</td>\n",
       "      <td>float64</td>\n",
       "      <td>float64</td>\n",
       "      <td>int64</td>\n",
       "      <td>float64</td>\n",
       "    </tr>\n",
       "    <tr>\n",
       "      <th>total</th>\n",
       "      <td>43431</td>\n",
       "      <td>43431</td>\n",
       "      <td>43431</td>\n",
       "      <td>43431</td>\n",
       "      <td>43431</td>\n",
       "      <td>43431</td>\n",
       "      <td>43431</td>\n",
       "      <td>43431</td>\n",
       "      <td>43431</td>\n",
       "      <td>43431</td>\n",
       "      <td>43431</td>\n",
       "      <td>43431</td>\n",
       "      <td>43431</td>\n",
       "      <td>43431</td>\n",
       "      <td>43431</td>\n",
       "      <td>43431</td>\n",
       "      <td>43431</td>\n",
       "      <td>43431</td>\n",
       "    </tr>\n",
       "    <tr>\n",
       "      <th>count</th>\n",
       "      <td>43431</td>\n",
       "      <td>43431</td>\n",
       "      <td>43431</td>\n",
       "      <td>7550</td>\n",
       "      <td>43431</td>\n",
       "      <td>43343</td>\n",
       "      <td>34293</td>\n",
       "      <td>16345</td>\n",
       "      <td>1588</td>\n",
       "      <td>25541</td>\n",
       "      <td>43431</td>\n",
       "      <td>43431</td>\n",
       "      <td>43338</td>\n",
       "      <td>43338</td>\n",
       "      <td>34293</td>\n",
       "      <td>34293</td>\n",
       "      <td>43431</td>\n",
       "      <td>43431</td>\n",
       "    </tr>\n",
       "    <tr>\n",
       "      <th>no of unique</th>\n",
       "      <td>43431</td>\n",
       "      <td>22267</td>\n",
       "      <td>27</td>\n",
       "      <td>7</td>\n",
       "      <td>3</td>\n",
       "      <td>598</td>\n",
       "      <td>568</td>\n",
       "      <td>3</td>\n",
       "      <td>116</td>\n",
       "      <td>22151</td>\n",
       "      <td>2</td>\n",
       "      <td>2</td>\n",
       "      <td>466</td>\n",
       "      <td>462</td>\n",
       "      <td>450</td>\n",
       "      <td>447</td>\n",
       "      <td>2</td>\n",
       "      <td>70</td>\n",
       "    </tr>\n",
       "    <tr>\n",
       "      <th>total miss</th>\n",
       "      <td>0</td>\n",
       "      <td>0</td>\n",
       "      <td>0</td>\n",
       "      <td>35881</td>\n",
       "      <td>0</td>\n",
       "      <td>88</td>\n",
       "      <td>9138</td>\n",
       "      <td>27086</td>\n",
       "      <td>41843</td>\n",
       "      <td>17890</td>\n",
       "      <td>0</td>\n",
       "      <td>0</td>\n",
       "      <td>93</td>\n",
       "      <td>93</td>\n",
       "      <td>9138</td>\n",
       "      <td>9138</td>\n",
       "      <td>0</td>\n",
       "      <td>0</td>\n",
       "    </tr>\n",
       "    <tr>\n",
       "      <th>per_miss</th>\n",
       "      <td>0.0</td>\n",
       "      <td>0.0</td>\n",
       "      <td>0.0</td>\n",
       "      <td>82.616104</td>\n",
       "      <td>0.0</td>\n",
       "      <td>0.20262</td>\n",
       "      <td>21.040271</td>\n",
       "      <td>62.365591</td>\n",
       "      <td>96.343626</td>\n",
       "      <td>41.191775</td>\n",
       "      <td>0.0</td>\n",
       "      <td>0.0</td>\n",
       "      <td>0.214133</td>\n",
       "      <td>0.214133</td>\n",
       "      <td>21.040271</td>\n",
       "      <td>21.040271</td>\n",
       "      <td>0.0</td>\n",
       "      <td>0.0</td>\n",
       "    </tr>\n",
       "    <tr>\n",
       "      <th>sum</th>\n",
       "      <td>6914496353</td>\n",
       "      <td>1335034115</td>\n",
       "      <td>1116925</td>\n",
       "      <td>15327.0</td>\n",
       "      <td>92823</td>\n",
       "      <td>30970502.0</td>\n",
       "      <td>22958852.0</td>\n",
       "      <td>243787.0</td>\n",
       "      <td>108838.0</td>\n",
       "      <td>1060155185.38155</td>\n",
       "      <td>15270</td>\n",
       "      <td>1878</td>\n",
       "      <td>562633.889765</td>\n",
       "      <td>3364600.005697</td>\n",
       "      <td>446722.856466</td>\n",
       "      <td>2662528.939618</td>\n",
       "      <td>3132</td>\n",
       "      <td>347470.1</td>\n",
       "    </tr>\n",
       "    <tr>\n",
       "      <th>avg</th>\n",
       "      <td>159206.473556</td>\n",
       "      <td>30739.198153</td>\n",
       "      <td>25.71723</td>\n",
       "      <td>2.030066</td>\n",
       "      <td>2.137252</td>\n",
       "      <td>714.544494</td>\n",
       "      <td>669.490917</td>\n",
       "      <td>14.915081</td>\n",
       "      <td>68.537783</td>\n",
       "      <td>41507.97484</td>\n",
       "      <td>0.351592</td>\n",
       "      <td>0.043241</td>\n",
       "      <td>12.982461</td>\n",
       "      <td>77.636255</td>\n",
       "      <td>13.026648</td>\n",
       "      <td>77.640595</td>\n",
       "      <td>0.072114</td>\n",
       "      <td>8.000509</td>\n",
       "    </tr>\n",
       "    <tr>\n",
       "      <th>sd</th>\n",
       "      <td>15442.386279</td>\n",
       "      <td>10996.476709</td>\n",
       "      <td>26.79825</td>\n",
       "      <td>1.461756</td>\n",
       "      <td>0.437712</td>\n",
       "      <td>419.883553</td>\n",
       "      <td>400.638225</td>\n",
       "      <td>1.165306</td>\n",
       "      <td>49.880732</td>\n",
       "      <td>305.144945</td>\n",
       "      <td>0.477473</td>\n",
       "      <td>0.203402</td>\n",
       "      <td>0.085933</td>\n",
       "      <td>0.059391</td>\n",
       "      <td>0.113487</td>\n",
       "      <td>0.064045</td>\n",
       "      <td>0.25868</td>\n",
       "      <td>25.350698</td>\n",
       "    </tr>\n",
       "    <tr>\n",
       "      <th>var</th>\n",
       "      <td>238467293.999526</td>\n",
       "      <td>120922500.011208</td>\n",
       "      <td>718.146219</td>\n",
       "      <td>2.13673</td>\n",
       "      <td>0.191592</td>\n",
       "      <td>176302.197913</td>\n",
       "      <td>160510.987356</td>\n",
       "      <td>1.357938</td>\n",
       "      <td>2488.087418</td>\n",
       "      <td>93113.437426</td>\n",
       "      <td>0.22798</td>\n",
       "      <td>0.041372</td>\n",
       "      <td>0.007384</td>\n",
       "      <td>0.003527</td>\n",
       "      <td>0.012879</td>\n",
       "      <td>0.004102</td>\n",
       "      <td>0.066915</td>\n",
       "      <td>642.657895</td>\n",
       "    </tr>\n",
       "    <tr>\n",
       "      <th>min</th>\n",
       "      <td>132512</td>\n",
       "      <td>16</td>\n",
       "      <td>1</td>\n",
       "      <td>1.0</td>\n",
       "      <td>1</td>\n",
       "      <td>2.0</td>\n",
       "      <td>2.0</td>\n",
       "      <td>1.0</td>\n",
       "      <td>4.0</td>\n",
       "      <td>25569.02083</td>\n",
       "      <td>0</td>\n",
       "      <td>0</td>\n",
       "      <td>12.77663</td>\n",
       "      <td>77.38693</td>\n",
       "      <td>12.77663</td>\n",
       "      <td>77.38693</td>\n",
       "      <td>0</td>\n",
       "      <td>0.15</td>\n",
       "    </tr>\n",
       "    <tr>\n",
       "      <th>p(0.01)</th>\n",
       "      <td>133036.3</td>\n",
       "      <td>868.0</td>\n",
       "      <td>12.0</td>\n",
       "      <td>1.0</td>\n",
       "      <td>1.0</td>\n",
       "      <td>58.0</td>\n",
       "      <td>58.0</td>\n",
       "      <td>15.0</td>\n",
       "      <td>10.0</td>\n",
       "      <td>41304.0</td>\n",
       "      <td>0.0</td>\n",
       "      <td>0.0</td>\n",
       "      <td>12.845653</td>\n",
       "      <td>77.51043</td>\n",
       "      <td>12.845653</td>\n",
       "      <td>77.50576</td>\n",
       "      <td>0.0</td>\n",
       "      <td>1.0</td>\n",
       "    </tr>\n",
       "    <tr>\n",
       "      <th>p(0.05)</th>\n",
       "      <td>135140.0</td>\n",
       "      <td>5969.0</td>\n",
       "      <td>12.0</td>\n",
       "      <td>1.0</td>\n",
       "      <td>2.0</td>\n",
       "      <td>89.0</td>\n",
       "      <td>136.0</td>\n",
       "      <td>15.0</td>\n",
       "      <td>24.0</td>\n",
       "      <td>41403.0</td>\n",
       "      <td>0.0</td>\n",
       "      <td>0.0</td>\n",
       "      <td>12.869805</td>\n",
       "      <td>77.54481</td>\n",
       "      <td>12.88963</td>\n",
       "      <td>77.54625</td>\n",
       "      <td>0.0</td>\n",
       "      <td>1.0</td>\n",
       "    </tr>\n",
       "    <tr>\n",
       "      <th>p(0.10)</th>\n",
       "      <td>137846.0</td>\n",
       "      <td>17044.0</td>\n",
       "      <td>12.0</td>\n",
       "      <td>1.0</td>\n",
       "      <td>2.0</td>\n",
       "      <td>149.0</td>\n",
       "      <td>218.0</td>\n",
       "      <td>15.0</td>\n",
       "      <td>29.0</td>\n",
       "      <td>41455.83333</td>\n",
       "      <td>0.0</td>\n",
       "      <td>0.0</td>\n",
       "      <td>12.900648</td>\n",
       "      <td>77.56039</td>\n",
       "      <td>12.909202</td>\n",
       "      <td>77.55332</td>\n",
       "      <td>0.0</td>\n",
       "      <td>1.0</td>\n",
       "    </tr>\n",
       "    <tr>\n",
       "      <th>p(0.25)</th>\n",
       "      <td>145778.0</td>\n",
       "      <td>24614.0</td>\n",
       "      <td>12.0</td>\n",
       "      <td>1.0</td>\n",
       "      <td>2.0</td>\n",
       "      <td>393.0</td>\n",
       "      <td>393.0</td>\n",
       "      <td>15.0</td>\n",
       "      <td>32.0</td>\n",
       "      <td>41480.52111</td>\n",
       "      <td>0.0</td>\n",
       "      <td>0.0</td>\n",
       "      <td>12.92645</td>\n",
       "      <td>77.593661</td>\n",
       "      <td>12.95185</td>\n",
       "      <td>77.58203</td>\n",
       "      <td>0.0</td>\n",
       "      <td>1.0</td>\n",
       "    </tr>\n",
       "    <tr>\n",
       "      <th>p(0.50)</th>\n",
       "      <td>159248.0</td>\n",
       "      <td>31627.0</td>\n",
       "      <td>12.0</td>\n",
       "      <td>2.0</td>\n",
       "      <td>2.0</td>\n",
       "      <td>590.0</td>\n",
       "      <td>541.0</td>\n",
       "      <td>15.0</td>\n",
       "      <td>49.0</td>\n",
       "      <td>41517.76155</td>\n",
       "      <td>0.0</td>\n",
       "      <td>0.0</td>\n",
       "      <td>12.968887</td>\n",
       "      <td>77.63575</td>\n",
       "      <td>12.98275</td>\n",
       "      <td>77.64503</td>\n",
       "      <td>0.0</td>\n",
       "      <td>1.0</td>\n",
       "    </tr>\n",
       "    <tr>\n",
       "      <th>p(0.75)</th>\n",
       "      <td>172578.5</td>\n",
       "      <td>39167.0</td>\n",
       "      <td>24.0</td>\n",
       "      <td>2.0</td>\n",
       "      <td>2.0</td>\n",
       "      <td>1089.0</td>\n",
       "      <td>1054.0</td>\n",
       "      <td>15.0</td>\n",
       "      <td>108.0</td>\n",
       "      <td>41558.91463</td>\n",
       "      <td>1.0</td>\n",
       "      <td>0.0</td>\n",
       "      <td>13.00775</td>\n",
       "      <td>77.6889</td>\n",
       "      <td>13.19956</td>\n",
       "      <td>77.70688</td>\n",
       "      <td>0.0</td>\n",
       "      <td>1.0</td>\n",
       "    </tr>\n",
       "    <tr>\n",
       "      <th>p(0.90)</th>\n",
       "      <td>180579.0</td>\n",
       "      <td>44232.0</td>\n",
       "      <td>85.0</td>\n",
       "      <td>4.0</td>\n",
       "      <td>3.0</td>\n",
       "      <td>1299.0</td>\n",
       "      <td>1322.0</td>\n",
       "      <td>15.0</td>\n",
       "      <td>147.0</td>\n",
       "      <td>41584.03554</td>\n",
       "      <td>1.0</td>\n",
       "      <td>0.0</td>\n",
       "      <td>13.11084</td>\n",
       "      <td>77.70688</td>\n",
       "      <td>13.19956</td>\n",
       "      <td>77.70688</td>\n",
       "      <td>0.0</td>\n",
       "      <td>1.0</td>\n",
       "    </tr>\n",
       "    <tr>\n",
       "      <th>p(0.95)</th>\n",
       "      <td>183262.5</td>\n",
       "      <td>46185.0</td>\n",
       "      <td>89.0</td>\n",
       "      <td>6.0</td>\n",
       "      <td>3.0</td>\n",
       "      <td>1365.0</td>\n",
       "      <td>1384.0</td>\n",
       "      <td>15.0</td>\n",
       "      <td>161.65</td>\n",
       "      <td>41594.22532</td>\n",
       "      <td>1.0</td>\n",
       "      <td>0.0</td>\n",
       "      <td>13.19956</td>\n",
       "      <td>77.71932</td>\n",
       "      <td>13.19956</td>\n",
       "      <td>77.71662</td>\n",
       "      <td>1.0</td>\n",
       "      <td>100.0</td>\n",
       "    </tr>\n",
       "    <tr>\n",
       "      <th>p(0.99)</th>\n",
       "      <td>185410.7</td>\n",
       "      <td>48176.7</td>\n",
       "      <td>89.0</td>\n",
       "      <td>7.0</td>\n",
       "      <td>3.0</td>\n",
       "      <td>1390.0</td>\n",
       "      <td>1391.0</td>\n",
       "      <td>15.0</td>\n",
       "      <td>192.0</td>\n",
       "      <td>41602.076134</td>\n",
       "      <td>1.0</td>\n",
       "      <td>1.0</td>\n",
       "      <td>13.19956</td>\n",
       "      <td>77.74935</td>\n",
       "      <td>13.19956</td>\n",
       "      <td>77.74935</td>\n",
       "      <td>1.0</td>\n",
       "      <td>100.0</td>\n",
       "    </tr>\n",
       "    <tr>\n",
       "      <th>max</th>\n",
       "      <td>185941</td>\n",
       "      <td>48730</td>\n",
       "      <td>91</td>\n",
       "      <td>7.0</td>\n",
       "      <td>3</td>\n",
       "      <td>1403.0</td>\n",
       "      <td>1403.0</td>\n",
       "      <td>31.0</td>\n",
       "      <td>203.0</td>\n",
       "      <td>41678.27568</td>\n",
       "      <td>1</td>\n",
       "      <td>1</td>\n",
       "      <td>13.366072</td>\n",
       "      <td>77.78642</td>\n",
       "      <td>13.366072</td>\n",
       "      <td>77.78642</td>\n",
       "      <td>1</td>\n",
       "      <td>100.0</td>\n",
       "    </tr>\n",
       "  </tbody>\n",
       "</table>\n",
       "</div>"
      ],
      "text/plain": [
       "                            id           user_id vehicle_model_id package_id  \\\n",
       "dtype                    int64             int64            int64    float64   \n",
       "total                    43431             43431            43431      43431   \n",
       "count                    43431             43431            43431       7550   \n",
       "no of unique             43431             22267               27          7   \n",
       "total miss                   0                 0                0      35881   \n",
       "per_miss                   0.0               0.0              0.0  82.616104   \n",
       "sum                 6914496353        1335034115          1116925    15327.0   \n",
       "avg              159206.473556      30739.198153         25.71723   2.030066   \n",
       "sd                15442.386279      10996.476709         26.79825   1.461756   \n",
       "var           238467293.999526  120922500.011208       718.146219    2.13673   \n",
       "min                     132512                16                1        1.0   \n",
       "p(0.01)               133036.3             868.0             12.0        1.0   \n",
       "p(0.05)               135140.0            5969.0             12.0        1.0   \n",
       "p(0.10)               137846.0           17044.0             12.0        1.0   \n",
       "p(0.25)               145778.0           24614.0             12.0        1.0   \n",
       "p(0.50)               159248.0           31627.0             12.0        2.0   \n",
       "p(0.75)               172578.5           39167.0             24.0        2.0   \n",
       "p(0.90)               180579.0           44232.0             85.0        4.0   \n",
       "p(0.95)               183262.5           46185.0             89.0        6.0   \n",
       "p(0.99)               185410.7           48176.7             89.0        7.0   \n",
       "max                     185941             48730               91        7.0   \n",
       "\n",
       "             travel_type_id   from_area_id     to_area_id from_city_id  \\\n",
       "dtype                 int64        float64        float64      float64   \n",
       "total                 43431          43431          43431        43431   \n",
       "count                 43431          43343          34293        16345   \n",
       "no of unique              3            598            568            3   \n",
       "total miss                0             88           9138        27086   \n",
       "per_miss                0.0        0.20262      21.040271    62.365591   \n",
       "sum                   92823     30970502.0     22958852.0     243787.0   \n",
       "avg                2.137252     714.544494     669.490917    14.915081   \n",
       "sd                 0.437712     419.883553     400.638225     1.165306   \n",
       "var                0.191592  176302.197913  160510.987356     1.357938   \n",
       "min                       1            2.0            2.0          1.0   \n",
       "p(0.01)                 1.0           58.0           58.0         15.0   \n",
       "p(0.05)                 2.0           89.0          136.0         15.0   \n",
       "p(0.10)                 2.0          149.0          218.0         15.0   \n",
       "p(0.25)                 2.0          393.0          393.0         15.0   \n",
       "p(0.50)                 2.0          590.0          541.0         15.0   \n",
       "p(0.75)                 2.0         1089.0         1054.0         15.0   \n",
       "p(0.90)                 3.0         1299.0         1322.0         15.0   \n",
       "p(0.95)                 3.0         1365.0         1384.0         15.0   \n",
       "p(0.99)                 3.0         1390.0         1391.0         15.0   \n",
       "max                       3         1403.0         1403.0         31.0   \n",
       "\n",
       "               to_city_id           to_date online_booking  \\\n",
       "dtype             float64           float64          int64   \n",
       "total               43431             43431          43431   \n",
       "count                1588             25541          43431   \n",
       "no of unique          116             22151              2   \n",
       "total miss          41843             17890              0   \n",
       "per_miss        96.343626         41.191775            0.0   \n",
       "sum              108838.0  1060155185.38155          15270   \n",
       "avg             68.537783       41507.97484       0.351592   \n",
       "sd              49.880732        305.144945       0.477473   \n",
       "var           2488.087418      93113.437426        0.22798   \n",
       "min                   4.0       25569.02083              0   \n",
       "p(0.01)              10.0           41304.0            0.0   \n",
       "p(0.05)              24.0           41403.0            0.0   \n",
       "p(0.10)              29.0       41455.83333            0.0   \n",
       "p(0.25)              32.0       41480.52111            0.0   \n",
       "p(0.50)              49.0       41517.76155            0.0   \n",
       "p(0.75)             108.0       41558.91463            1.0   \n",
       "p(0.90)             147.0       41584.03554            1.0   \n",
       "p(0.95)            161.65       41594.22532            1.0   \n",
       "p(0.99)             192.0      41602.076134            1.0   \n",
       "max                 203.0       41678.27568              1   \n",
       "\n",
       "             mobile_site_booking       from_lat       from_long  \\\n",
       "dtype                      int64        float64         float64   \n",
       "total                      43431          43431           43431   \n",
       "count                      43431          43338           43338   \n",
       "no of unique                   2            466             462   \n",
       "total miss                     0             93              93   \n",
       "per_miss                     0.0       0.214133        0.214133   \n",
       "sum                         1878  562633.889765  3364600.005697   \n",
       "avg                     0.043241      12.982461       77.636255   \n",
       "sd                      0.203402       0.085933        0.059391   \n",
       "var                     0.041372       0.007384        0.003527   \n",
       "min                            0       12.77663        77.38693   \n",
       "p(0.01)                      0.0      12.845653        77.51043   \n",
       "p(0.05)                      0.0      12.869805        77.54481   \n",
       "p(0.10)                      0.0      12.900648        77.56039   \n",
       "p(0.25)                      0.0       12.92645       77.593661   \n",
       "p(0.50)                      0.0      12.968887        77.63575   \n",
       "p(0.75)                      0.0       13.00775         77.6889   \n",
       "p(0.90)                      0.0       13.11084        77.70688   \n",
       "p(0.95)                      0.0       13.19956        77.71932   \n",
       "p(0.99)                      1.0       13.19956        77.74935   \n",
       "max                            1      13.366072        77.78642   \n",
       "\n",
       "                     to_lat         to_long Car_Cancellation Cost_of_error  \n",
       "dtype               float64         float64            int64       float64  \n",
       "total                 43431           43431            43431         43431  \n",
       "count                 34293           34293            43431         43431  \n",
       "no of unique            450             447                2            70  \n",
       "total miss             9138            9138                0             0  \n",
       "per_miss          21.040271       21.040271              0.0           0.0  \n",
       "sum           446722.856466  2662528.939618             3132      347470.1  \n",
       "avg               13.026648       77.640595         0.072114      8.000509  \n",
       "sd                 0.113487        0.064045          0.25868     25.350698  \n",
       "var                0.012879        0.004102         0.066915    642.657895  \n",
       "min                12.77663        77.38693                0          0.15  \n",
       "p(0.01)           12.845653        77.50576              0.0           1.0  \n",
       "p(0.05)            12.88963        77.54625              0.0           1.0  \n",
       "p(0.10)           12.909202        77.55332              0.0           1.0  \n",
       "p(0.25)            12.95185        77.58203              0.0           1.0  \n",
       "p(0.50)            12.98275        77.64503              0.0           1.0  \n",
       "p(0.75)            13.19956        77.70688              0.0           1.0  \n",
       "p(0.90)            13.19956        77.70688              0.0           1.0  \n",
       "p(0.95)            13.19956        77.71662              1.0         100.0  \n",
       "p(0.99)            13.19956        77.74935              1.0         100.0  \n",
       "max               13.366072        77.78642                1         100.0  "
      ]
     },
     "execution_count": 9,
     "metadata": {},
     "output_type": "execute_result"
    }
   ],
   "source": [
    "# Reading numerical columns in dataset\n",
    "\n",
    "df_continous.apply(continous_summary)"
   ]
  },
  {
   "cell_type": "markdown",
   "id": "f17755ac",
   "metadata": {},
   "source": [
    "In this we can understand the important key metrics - Eg(sum,avg,sd,min,max) and value range of all numerical columns in the dataset"
   ]
  },
  {
   "cell_type": "code",
   "execution_count": 10,
   "id": "02962060",
   "metadata": {},
   "outputs": [
    {
     "data": {
      "text/html": [
       "<div>\n",
       "<style scoped>\n",
       "    .dataframe tbody tr th:only-of-type {\n",
       "        vertical-align: middle;\n",
       "    }\n",
       "\n",
       "    .dataframe tbody tr th {\n",
       "        vertical-align: top;\n",
       "    }\n",
       "\n",
       "    .dataframe thead th {\n",
       "        text-align: right;\n",
       "    }\n",
       "</style>\n",
       "<table border=\"1\" class=\"dataframe\">\n",
       "  <thead>\n",
       "    <tr style=\"text-align: right;\">\n",
       "      <th></th>\n",
       "      <th>from_date</th>\n",
       "      <th>booking_created</th>\n",
       "    </tr>\n",
       "  </thead>\n",
       "  <tbody>\n",
       "    <tr>\n",
       "      <th>count</th>\n",
       "      <td>43431</td>\n",
       "      <td>43431</td>\n",
       "    </tr>\n",
       "    <tr>\n",
       "      <th>unique</th>\n",
       "      <td>20377</td>\n",
       "      <td>39349</td>\n",
       "    </tr>\n",
       "    <tr>\n",
       "      <th>top</th>\n",
       "      <td>10/12/2013 6:00</td>\n",
       "      <td>10/31/2013 10:30</td>\n",
       "    </tr>\n",
       "    <tr>\n",
       "      <th>freq</th>\n",
       "      <td>20</td>\n",
       "      <td>18</td>\n",
       "    </tr>\n",
       "  </tbody>\n",
       "</table>\n",
       "</div>"
      ],
      "text/plain": [
       "              from_date   booking_created\n",
       "count             43431             43431\n",
       "unique            20377             39349\n",
       "top     10/12/2013 6:00  10/31/2013 10:30\n",
       "freq                 20                18"
      ]
     },
     "execution_count": 10,
     "metadata": {},
     "output_type": "execute_result"
    }
   ],
   "source": [
    "df_categorical.describe()"
   ]
  },
  {
   "cell_type": "markdown",
   "id": "00c63dd4",
   "metadata": {},
   "source": [
    "Calculating Missing values in dataset"
   ]
  },
  {
   "cell_type": "code",
   "execution_count": 11,
   "id": "ab4a26bf",
   "metadata": {},
   "outputs": [
    {
     "data": {
      "text/plain": [
       "id                         0\n",
       "user_id                    0\n",
       "vehicle_model_id           0\n",
       "package_id             35881\n",
       "travel_type_id             0\n",
       "from_area_id              88\n",
       "to_area_id              9138\n",
       "from_city_id           27086\n",
       "to_city_id             41843\n",
       "from_date                  0\n",
       "to_date                17890\n",
       "online_booking             0\n",
       "mobile_site_booking        0\n",
       "booking_created            0\n",
       "from_lat                  93\n",
       "from_long                 93\n",
       "to_lat                  9138\n",
       "to_long                 9138\n",
       "Car_Cancellation           0\n",
       "Cost_of_error              0\n",
       "dtype: int64"
      ]
     },
     "execution_count": 11,
     "metadata": {},
     "output_type": "execute_result"
    }
   ],
   "source": [
    "df.isna().sum()"
   ]
  },
  {
   "cell_type": "code",
   "execution_count": 12,
   "id": "72fa70a7",
   "metadata": {},
   "outputs": [
    {
     "name": "stdout",
     "output_type": "stream",
     "text": [
      "id                     0.134326\n",
      "user_id                0.102789\n",
      "vehicle_model_id      -0.045244\n",
      "package_id             0.071583\n",
      "travel_type_id        -0.023360\n",
      "from_area_id           0.011357\n",
      "to_area_id             0.066088\n",
      "from_city_id           0.024755\n",
      "to_city_id            -0.007882\n",
      "to_date                0.035766\n",
      "online_booking         0.149476\n",
      "mobile_site_booking    0.067204\n",
      "from_lat              -0.076085\n",
      "from_long              0.042811\n",
      "to_lat                -0.127288\n",
      "to_long               -0.102121\n",
      "Car_Cancellation       1.000000\n",
      "Cost_of_error          0.990560\n",
      "Name: Car_Cancellation, dtype: float64\n"
     ]
    }
   ],
   "source": [
    "correlation = df_continous.corr()['Car_Cancellation']\n",
    "print(correlation)\n"
   ]
  },
  {
   "cell_type": "code",
   "execution_count": 13,
   "id": "a21dd9c2",
   "metadata": {},
   "outputs": [
    {
     "data": {
      "text/plain": [
       "Index(['id', 'user_id', 'package_id', 'from_area_id', 'to_area_id',\n",
       "       'from_city_id', 'to_date', 'online_booking', 'mobile_site_booking',\n",
       "       'from_long', 'Car_Cancellation', 'Cost_of_error'],\n",
       "      dtype='object')"
      ]
     },
     "execution_count": 13,
     "metadata": {},
     "output_type": "execute_result"
    }
   ],
   "source": [
    "correlation[correlation>0].index"
   ]
  },
  {
   "cell_type": "code",
   "execution_count": 14,
   "id": "145db077",
   "metadata": {},
   "outputs": [],
   "source": [
    "df1 = df[['vehicle_model_id','travel_type_id', 'package_id', 'from_area_id', 'to_area_id',\n",
    "       'from_city_id', 'to_date', 'online_booking', 'mobile_site_booking',\n",
    "       'from_long', 'Car_Cancellation', 'Cost_of_error']]"
   ]
  },
  {
   "cell_type": "code",
   "execution_count": 15,
   "id": "7f5697c7",
   "metadata": {},
   "outputs": [
    {
     "data": {
      "text/plain": [
       "vehicle_model_id           0\n",
       "travel_type_id             0\n",
       "package_id             35881\n",
       "from_area_id              88\n",
       "to_area_id              9138\n",
       "from_city_id           27086\n",
       "to_date                17890\n",
       "online_booking             0\n",
       "mobile_site_booking        0\n",
       "from_long                 93\n",
       "Car_Cancellation           0\n",
       "Cost_of_error              0\n",
       "dtype: int64"
      ]
     },
     "execution_count": 15,
     "metadata": {},
     "output_type": "execute_result"
    }
   ],
   "source": [
    "df1.isna().sum()"
   ]
  },
  {
   "cell_type": "markdown",
   "id": "4da55b96",
   "metadata": {},
   "source": [
    "Missing Value Treatment on Numerical Columns"
   ]
  },
  {
   "cell_type": "markdown",
   "id": "f3e59a0f",
   "metadata": {},
   "source": [
    "Since there are so many missing values in the numerical columns. will fill all the cumerical columns with their missing values for model prediction. Then for analysis will build the model based on that"
   ]
  },
  {
   "cell_type": "code",
   "execution_count": 16,
   "id": "37056cd2",
   "metadata": {},
   "outputs": [],
   "source": [
    "df_continous_new = df1.apply(lambda x:x.fillna(x.mean()))"
   ]
  },
  {
   "cell_type": "code",
   "execution_count": 17,
   "id": "c52c3286",
   "metadata": {},
   "outputs": [
    {
     "data": {
      "text/plain": [
       "vehicle_model_id       0\n",
       "travel_type_id         0\n",
       "package_id             0\n",
       "from_area_id           0\n",
       "to_area_id             0\n",
       "from_city_id           0\n",
       "to_date                0\n",
       "online_booking         0\n",
       "mobile_site_booking    0\n",
       "from_long              0\n",
       "Car_Cancellation       0\n",
       "Cost_of_error          0\n",
       "dtype: int64"
      ]
     },
     "execution_count": 17,
     "metadata": {},
     "output_type": "execute_result"
    }
   ],
   "source": [
    "df_continous_new.isna().sum()"
   ]
  },
  {
   "cell_type": "markdown",
   "id": "772070e2",
   "metadata": {},
   "source": [
    "Missing Value Treatment on Categorical Columns"
   ]
  },
  {
   "cell_type": "code",
   "execution_count": 18,
   "id": "2fc7e056",
   "metadata": {},
   "outputs": [
    {
     "data": {
      "text/plain": [
       "from_date          0\n",
       "booking_created    0\n",
       "dtype: int64"
      ]
     },
     "execution_count": 18,
     "metadata": {},
     "output_type": "execute_result"
    }
   ],
   "source": [
    "df_categorical.isna().sum()\n"
   ]
  },
  {
   "cell_type": "markdown",
   "id": "018a78de",
   "metadata": {},
   "source": [
    "Since there is no missing values in categorical values no need to perform missing value treatments"
   ]
  },
  {
   "cell_type": "code",
   "execution_count": 19,
   "id": "1fa7209e",
   "metadata": {},
   "outputs": [
    {
     "data": {
      "text/plain": [
       "10/12/2013 6:00    20\n",
       "7/4/2013 22:15     20\n",
       "9/8/2013 6:00      16\n",
       "5/12/2013 7:30     15\n",
       "9/16/2013 8:00     13\n",
       "                   ..\n",
       "5/30/2013 21:30     1\n",
       "5/31/2013 6:30      1\n",
       "5/31/2013 12:00     1\n",
       "5/31/2013 15:30     1\n",
       "11/25/2013 5:00     1\n",
       "Name: from_date, Length: 20377, dtype: int64"
      ]
     },
     "execution_count": 19,
     "metadata": {},
     "output_type": "execute_result"
    }
   ],
   "source": [
    "df_categorical['from_date'].value_counts()"
   ]
  },
  {
   "cell_type": "markdown",
   "id": "69aca97a",
   "metadata": {},
   "source": [
    "We can see that in numerical and categorical columns date time values are present with numerical and string data types we will convert them into date time data types"
   ]
  },
  {
   "cell_type": "markdown",
   "id": "e290d32d",
   "metadata": {},
   "source": [
    "# Excluding Cost_of_error column all other numerical columns in dataset are representing a character/feature, outliers cant be checked or updated for that columns. Hence performing outliers calculation only on Cost_of_error column"
   ]
  },
  {
   "cell_type": "code",
   "execution_count": 102,
   "id": "2375c336",
   "metadata": {},
   "outputs": [],
   "source": [
    "df_continous_new['Cost_of_error'] = pd.to_numeric(df_continous_new['Cost_of_error'], errors='coerce')\n",
    "\n",
    "\n",
    "df_continous_new['Cost_of_error'] = df_continous_new['Cost_of_error'].clip(lower=df_continous_new['Cost_of_error'].quantile(0.01),\n",
    "                                                                           upper=df_continous_new['Cost_of_error'].quantile(0.99))\n"
   ]
  },
  {
   "cell_type": "code",
   "execution_count": 98,
   "id": "b91b4599",
   "metadata": {},
   "outputs": [],
   "source": [
    "df_new  = pd.concat([df_continous_new,df_categorical],axis=1)"
   ]
  },
  {
   "cell_type": "code",
   "execution_count": 99,
   "id": "94f3e20f",
   "metadata": {},
   "outputs": [
    {
     "data": {
      "text/plain": [
       "(43431, 14)"
      ]
     },
     "execution_count": 99,
     "metadata": {},
     "output_type": "execute_result"
    }
   ],
   "source": [
    "df_new.shape"
   ]
  },
  {
   "cell_type": "code",
   "execution_count": 100,
   "id": "067a237d",
   "metadata": {},
   "outputs": [
    {
     "data": {
      "text/plain": [
       "vehicle_model_id       0\n",
       "travel_type_id         0\n",
       "package_id             0\n",
       "from_area_id           0\n",
       "to_area_id             0\n",
       "from_city_id           0\n",
       "to_date                0\n",
       "online_booking         0\n",
       "mobile_site_booking    0\n",
       "from_long              0\n",
       "Car_Cancellation       0\n",
       "Cost_of_error          0\n",
       "from_date              0\n",
       "booking_created        0\n",
       "dtype: int64"
      ]
     },
     "execution_count": 100,
     "metadata": {},
     "output_type": "execute_result"
    }
   ],
   "source": [
    "df_new.isna().sum()"
   ]
  },
  {
   "cell_type": "code",
   "execution_count": 23,
   "id": "822a7118",
   "metadata": {},
   "outputs": [
    {
     "name": "stdout",
     "output_type": "stream",
     "text": [
      "<class 'pandas.core.frame.DataFrame'>\n",
      "RangeIndex: 43431 entries, 0 to 43430\n",
      "Data columns (total 14 columns):\n",
      " #   Column               Non-Null Count  Dtype  \n",
      "---  ------               --------------  -----  \n",
      " 0   vehicle_model_id     43431 non-null  int64  \n",
      " 1   travel_type_id       43431 non-null  int64  \n",
      " 2   package_id           43431 non-null  float64\n",
      " 3   from_area_id         43431 non-null  float64\n",
      " 4   to_area_id           43431 non-null  float64\n",
      " 5   from_city_id         43431 non-null  float64\n",
      " 6   to_date              43431 non-null  float64\n",
      " 7   online_booking       43431 non-null  int64  \n",
      " 8   mobile_site_booking  43431 non-null  int64  \n",
      " 9   from_long            43431 non-null  float64\n",
      " 10  Car_Cancellation     43431 non-null  int64  \n",
      " 11  Cost_of_error        43431 non-null  float64\n",
      " 12  from_date            43431 non-null  object \n",
      " 13  booking_created      43431 non-null  object \n",
      "dtypes: float64(7), int64(5), object(2)\n",
      "memory usage: 4.6+ MB\n"
     ]
    }
   ],
   "source": [
    "df_new.info()"
   ]
  },
  {
   "cell_type": "markdown",
   "id": "b8f78ad9",
   "metadata": {},
   "source": [
    "# Updating the datetime datatype of respected columns and updating their format "
   ]
  },
  {
   "cell_type": "code",
   "execution_count": 24,
   "id": "0861ddb4",
   "metadata": {},
   "outputs": [],
   "source": [
    "df_new['to_date'] = pd.to_datetime(df_new['to_date'], origin='1899-12-30', unit='D')"
   ]
  },
  {
   "cell_type": "code",
   "execution_count": 25,
   "id": "8e737bb7",
   "metadata": {},
   "outputs": [],
   "source": [
    "df_new['to_date'] = pd.to_datetime(df_new['to_date'], format='%m/%d/%Y %H:%M')"
   ]
  },
  {
   "cell_type": "code",
   "execution_count": 26,
   "id": "635a6164",
   "metadata": {},
   "outputs": [],
   "source": [
    "df_new['booking_created'] = pd.to_datetime(df_new['booking_created'], format='%m/%d/%Y %H:%M')"
   ]
  },
  {
   "cell_type": "code",
   "execution_count": 27,
   "id": "e548104c",
   "metadata": {},
   "outputs": [
    {
     "data": {
      "text/plain": [
       "<Axes: >"
      ]
     },
     "execution_count": 27,
     "metadata": {},
     "output_type": "execute_result"
    },
    {
     "data": {
      "image/png": "[encoded data removed]",
      "text/plain": [
       "<Figure size 640x480 with 1 Axes>"
      ]
     },
     "metadata": {},
     "output_type": "display_data"
    }
   ],
   "source": [
    "df_new['Car_Cancellation'].value_counts().plot(kind='barh')"
   ]
  },
  {
   "cell_type": "markdown",
   "id": "eb5b467e",
   "metadata": {},
   "source": [
    "Since there is more number of cancellation we will proceed model building with sample of same size in both cancellation and non-cancellation"
   ]
  },
  {
   "cell_type": "code",
   "execution_count": 28,
   "id": "3fef4123",
   "metadata": {},
   "outputs": [],
   "source": [
    "not_cancelled = df_new[df_new.Car_Cancellation == 0]\n",
    "cancelled = df_new[df_new.Car_Cancellation == 1]"
   ]
  },
  {
   "cell_type": "code",
   "execution_count": 29,
   "id": "1455ec54",
   "metadata": {},
   "outputs": [],
   "source": [
    "not_cancelled_sample = not_cancelled.sample(n=3132)"
   ]
  },
  {
   "cell_type": "code",
   "execution_count": 30,
   "id": "a2e48a60",
   "metadata": {},
   "outputs": [],
   "source": [
    "merged_df = pd.concat([not_cancelled_sample, cancelled], axis=0)"
   ]
  },
  {
   "cell_type": "code",
   "execution_count": 31,
   "id": "3affbd04",
   "metadata": {},
   "outputs": [
    {
     "name": "stdout",
     "output_type": "stream",
     "text": [
      "<class 'pandas.core.frame.DataFrame'>\n",
      "Int64Index: 6264 entries, 19491 to 43422\n",
      "Data columns (total 14 columns):\n",
      " #   Column               Non-Null Count  Dtype         \n",
      "---  ------               --------------  -----         \n",
      " 0   vehicle_model_id     6264 non-null   int64         \n",
      " 1   travel_type_id       6264 non-null   int64         \n",
      " 2   package_id           6264 non-null   float64       \n",
      " 3   from_area_id         6264 non-null   float64       \n",
      " 4   to_area_id           6264 non-null   float64       \n",
      " 5   from_city_id         6264 non-null   float64       \n",
      " 6   to_date              6264 non-null   datetime64[ns]\n",
      " 7   online_booking       6264 non-null   int64         \n",
      " 8   mobile_site_booking  6264 non-null   int64         \n",
      " 9   from_long            6264 non-null   float64       \n",
      " 10  Car_Cancellation     6264 non-null   int64         \n",
      " 11  Cost_of_error        6264 non-null   float64       \n",
      " 12  from_date            6264 non-null   object        \n",
      " 13  booking_created      6264 non-null   datetime64[ns]\n",
      "dtypes: datetime64[ns](2), float64(6), int64(5), object(1)\n",
      "memory usage: 734.1+ KB\n"
     ]
    }
   ],
   "source": [
    "merged_df.info()"
   ]
  },
  {
   "cell_type": "code",
   "execution_count": 32,
   "id": "82855980",
   "metadata": {},
   "outputs": [],
   "source": [
    "merged_df = merged_df[['vehicle_model_id','travel_type_id', 'package_id', 'from_area_id', 'to_area_id',\n",
    "       'from_city_id', 'online_booking', 'mobile_site_booking', 'Car_Cancellation', 'Cost_of_error']]"
   ]
  },
  {
   "cell_type": "markdown",
   "id": "bf5d2c2f",
   "metadata": {},
   "source": [
    "# Exploratory data analysis"
   ]
  },
  {
   "cell_type": "code",
   "execution_count": 33,
   "id": "37bb8f15",
   "metadata": {},
   "outputs": [
    {
     "name": "stdout",
     "output_type": "stream",
     "text": [
      "Overall cancellation rate: 7.21%\n"
     ]
    }
   ],
   "source": [
    "cancellation_rate = df['Car_Cancellation'].mean()\n",
    "print(f\"Overall cancellation rate: {cancellation_rate:.2%}\")\n"
   ]
  },
  {
   "cell_type": "code",
   "execution_count": 34,
   "id": "338e2831",
   "metadata": {},
   "outputs": [
    {
     "data": {
      "text/plain": [
       "<Axes: >"
      ]
     },
     "execution_count": 34,
     "metadata": {},
     "output_type": "execute_result"
    },
    {
     "data": {
      "image/png": "[encoded data removed]",
      "text/plain": [
       "<Figure size 640x480 with 1 Axes>"
      ]
     },
     "metadata": {},
     "output_type": "display_data"
    }
   ],
   "source": [
    "merged_df['package_id'].value_counts().plot(kind='barh')"
   ]
  },
  {
   "cell_type": "markdown",
   "id": "de9d5d2d",
   "metadata": {},
   "source": [
    "We can see that customers mostly prefer to travel between 4 hours and 40 kms to 8 hours and 80 kms. It is also general that most of the customers travel mostly between 1 to 1.5 buisness days in cab."
   ]
  },
  {
   "cell_type": "code",
   "execution_count": 35,
   "id": "6c94ab5e",
   "metadata": {},
   "outputs": [
    {
     "data": {
      "image/png": "[encoded data removed]",
      "text/plain": [
       "<Figure size 640x480 with 1 Axes>"
      ]
     },
     "metadata": {},
     "output_type": "display_data"
    }
   ],
   "source": [
    "result = merged_df.groupby('package_id')['Car_Cancellation'].value_counts().unstack().fillna(0)\n",
    "result.plot(kind='bar')\n",
    "plt.show()\n"
   ]
  },
  {
   "cell_type": "markdown",
   "id": "b1a1af3d",
   "metadata": {},
   "source": [
    "We can see that non cancellation is higher in less than 2 package-id whereas if you go higher than 2 package-id cancellation is higher than non-cancellation of cars due to availability"
   ]
  },
  {
   "cell_type": "code",
   "execution_count": 36,
   "id": "5a47b41d",
   "metadata": {},
   "outputs": [
    {
     "name": "stdout",
     "output_type": "stream",
     "text": [
      "online_booking         46.487867\n",
      "mobile_site_booking     6.944444\n",
      "dtype: float64\n"
     ]
    }
   ],
   "source": [
    "booking_percentage = merged_df[['online_booking', 'mobile_site_booking']].mean() * 100\n",
    "print(booking_percentage)\n"
   ]
  },
  {
   "cell_type": "markdown",
   "id": "dbc42965",
   "metadata": {},
   "source": [
    "By this it proves most of the people prefer online booking instead of mobile site-booking"
   ]
  },
  {
   "cell_type": "code",
   "execution_count": 37,
   "id": "849e707f",
   "metadata": {},
   "outputs": [
    {
     "data": {
      "image/png": "[encoded data removed]",
      "text/plain": [
       "<Figure size 640x480 with 1 Axes>"
      ]
     },
     "metadata": {},
     "output_type": "display_data"
    }
   ],
   "source": [
    "import matplotlib.pyplot as plt\n",
    "\n",
    "# Grouping by 'from_area_id' and calculating mean 'Car_Cancellation'\n",
    "cancellation_by_area = df.groupby('from_area_id')['Car_Cancellation'].mean()\n",
    "\n",
    "# Sorting the values to get the top 15\n",
    "top_15_areas = cancellation_by_area.sort_values(ascending=False).head(15)\n",
    "\n",
    "# Plotting the top 15 areas\n",
    "top_15_areas.plot(kind='barh')\n",
    "plt.xlabel('Mean Car Cancellation')\n",
    "plt.ylabel('from_area_id')\n",
    "plt.title('Top 15 Areas by Mean Car Cancellation')\n",
    "plt.show()\n"
   ]
  },
  {
   "cell_type": "code",
   "execution_count": 38,
   "id": "789e6d8e",
   "metadata": {},
   "outputs": [
    {
     "name": "stdout",
     "output_type": "stream",
     "text": [
      "                  Car_Cancellation  Cost_of_error\n",
      "Car_Cancellation           1.00000        0.99056\n",
      "Cost_of_error              0.99056        1.00000\n"
     ]
    }
   ],
   "source": [
    "correlation = df[['Car_Cancellation', 'Cost_of_error']].corr()\n",
    "print(correlation)\n"
   ]
  },
  {
   "cell_type": "markdown",
   "id": "d376f67f",
   "metadata": {},
   "source": [
    "It proves a strong co-relationship between car cancellation and cost of error it directly proportional to each other"
   ]
  },
  {
   "cell_type": "code",
   "execution_count": 39,
   "id": "f24779d7",
   "metadata": {},
   "outputs": [
    {
     "data": {
      "image/png": "[encoded data removed]",
      "text/plain": [
       "<Figure size 640x480 with 1 Axes>"
      ]
     },
     "metadata": {},
     "output_type": "display_data"
    }
   ],
   "source": [
    "avg_cost_per_package = df.groupby('package_id')['Cost_of_error'].mean().plot(kind='area')\n",
    "#print(avg_cost_per_package)\n"
   ]
  },
  {
   "cell_type": "markdown",
   "id": "48964531",
   "metadata": {},
   "source": [
    "Cost of error reaches high proportionally with increase in package-id(more the distance and duration more the cost of error)"
   ]
  },
  {
   "cell_type": "code",
   "execution_count": 40,
   "id": "c9abac54",
   "metadata": {},
   "outputs": [
    {
     "data": {
      "text/plain": [
       "<Axes: >"
      ]
     },
     "execution_count": 40,
     "metadata": {},
     "output_type": "execute_result"
    },
    {
     "data": {
      "image/png": "[encoded data removed]",
      "text/plain": [
       "<Figure size 640x480 with 1 Axes>"
      ]
     },
     "metadata": {},
     "output_type": "display_data"
    }
   ],
   "source": [
    "merged_df[merged_df['Car_Cancellation'] == 1]['from_city_id'].value_counts().plot(kind='bar')"
   ]
  },
  {
   "cell_type": "markdown",
   "id": "947e6206",
   "metadata": {},
   "source": [
    "From the above visualization residents from city_id 15 has requested for 99% of cancellation compared to other city_id. there are not residents from 14.9 they are mostly in response to city id 15"
   ]
  },
  {
   "cell_type": "code",
   "execution_count": 41,
   "id": "8a7db3da",
   "metadata": {},
   "outputs": [
    {
     "name": "stdout",
     "output_type": "stream",
     "text": [
      "Total unique users with cancellation :  2622\n"
     ]
    }
   ],
   "source": [
    "unique_users_with_cancellation = df[df['Car_Cancellation'] == 1]['user_id'].nunique()\n",
    "print(\"Total unique users with cancellation : \",unique_users_with_cancellation)\n"
   ]
  },
  {
   "cell_type": "code",
   "execution_count": 42,
   "id": "298be441",
   "metadata": {},
   "outputs": [
    {
     "name": "stdout",
     "output_type": "stream",
     "text": [
      "Car_Cancellation\n",
      "0    661.634621\n",
      "1    758.721441\n",
      "Name: to_area_id, dtype: float64\n"
     ]
    }
   ],
   "source": [
    "avg_to_area_for_cancellation = df.groupby('Car_Cancellation')['to_area_id'].mean()\n",
    "print(avg_to_area_for_cancellation)\n"
   ]
  },
  {
   "cell_type": "code",
   "execution_count": 43,
   "id": "10e8b37d",
   "metadata": {},
   "outputs": [
    {
     "data": {
      "image/png": "[encoded data removed]",
      "text/plain": [
       "<Figure size 640x480 with 1 Axes>"
      ]
     },
     "metadata": {},
     "output_type": "display_data"
    }
   ],
   "source": [
    "cancellation_by_travel_type = merged_df.groupby('travel_type_id')['Car_Cancellation'].count().plot(kind='pie')\n"
   ]
  },
  {
   "cell_type": "markdown",
   "id": "ba6e019a",
   "metadata": {},
   "source": [
    "Most of the customers point to point cab ride is getting cancelled due to car un-availability. Its because due the cars booked hourly rental more which are always in booked point to point customers are finding difficult to book a ride"
   ]
  },
  {
   "cell_type": "code",
   "execution_count": 44,
   "id": "0c06f810",
   "metadata": {},
   "outputs": [
    {
     "name": "stdout",
     "output_type": "stream",
     "text": [
      "Correlation between online_booking and Car_Cancellation: 0.29\n"
     ]
    }
   ],
   "source": [
    "correlation_online_booking = merged_df['online_booking'].corr(merged_df['Car_Cancellation'])\n",
    "print(f\"Correlation between online_booking and Car_Cancellation: {correlation_online_booking:.2f}\")\n"
   ]
  },
  {
   "cell_type": "code",
   "execution_count": 45,
   "id": "2124d1ad",
   "metadata": {},
   "outputs": [
    {
     "name": "stdout",
     "output_type": "stream",
     "text": [
      "Cost error mean by non-cancellation rides :  1.0\n",
      "Cost error mean by cancellation rides :  98.0750638569604\n"
     ]
    }
   ],
   "source": [
    "cost_error_by_cancellation = merged_df.groupby('Car_Cancellation')['Cost_of_error'].mean()\n",
    "print(\"Cost error mean by non-cancellation rides : \", cost_error_by_cancellation[0])\n",
    "print(\"Cost error mean by cancellation rides : \", cost_error_by_cancellation[1])"
   ]
  },
  {
   "cell_type": "code",
   "execution_count": 46,
   "id": "ad205615",
   "metadata": {},
   "outputs": [
    {
     "name": "stdout",
     "output_type": "stream",
     "text": [
      "Axes(0.125,0.11;0.775x0.77)\n"
     ]
    },
    {
     "data": {
      "text/plain": [
       "Text(0.5, 1.0, 'Top 5 area id with high cancellation cab rides')"
      ]
     },
     "execution_count": 46,
     "metadata": {},
     "output_type": "execute_result"
    },
    {
     "data": {
      "image/png": "[encoded data removed]",
      "text/plain": [
       "<Figure size 640x480 with 1 Axes>"
      ]
     },
     "metadata": {},
     "output_type": "display_data"
    }
   ],
   "source": [
    "cancellation_by_area = merged_df.groupby('from_area_id')['Car_Cancellation'].count().sort_values(ascending=False)\n",
    "top_high_cancellation_areas = cancellation_by_area.head(10)  # Top 5 areas with high cancellation rate\n",
    "print(top_high_cancellation_areas.plot(kind='bar'))\n",
    "plt.title(\"Top 5 area id with high cancellation cab rides\")\n"
   ]
  },
  {
   "cell_type": "code",
   "execution_count": 47,
   "id": "dd20d1a9",
   "metadata": {},
   "outputs": [
    {
     "name": "stdout",
     "output_type": "stream",
     "text": [
      "                  Car_Cancellation  Cost_of_error\n",
      "vehicle_model_id                                 \n",
      "12                            2668      264005.15\n",
      "89                             298       29790.41\n",
      "28                              76        7558.78\n",
      "65                              59        5805.14\n",
      "87                              16        1439.01\n",
      "85                               9        1083.00\n",
      "24                               3         319.30\n",
      "91                               2         108.31\n",
      "13                               1         100.00\n",
      "90                               0          34.00\n",
      "23                               0          26.00\n",
      "86                               0           9.00\n",
      "64                               0           8.00\n",
      "10                               0           6.00\n",
      "17                               0           4.00\n",
      "54                               0           4.00\n",
      "70                               0           1.00\n",
      "36                               0           1.00\n",
      "30                               0           1.00\n"
     ]
    },
    {
     "name": "stderr",
     "output_type": "stream",
     "text": [
      "C:\\Users\\Welcome\\AppData\\Local\\Temp\\ipykernel_32484\\1174320797.py:1: FutureWarning: Indexing with multiple keys (implicitly converted to a tuple of keys) will be deprecated, use a list instead.\n",
      "  cancellation_by_vehicle = merged_df.groupby('vehicle_model_id')['Car_Cancellation','Cost_of_error'].sum().sort_values(by='Cost_of_error',ascending=False)\n"
     ]
    }
   ],
   "source": [
    "cancellation_by_vehicle = merged_df.groupby('vehicle_model_id')['Car_Cancellation','Cost_of_error'].sum().sort_values(by='Cost_of_error',ascending=False)\n",
    "print(cancellation_by_vehicle)\n"
   ]
  },
  {
   "cell_type": "code",
   "execution_count": 48,
   "id": "61bf0a2d",
   "metadata": {},
   "outputs": [
    {
     "name": "stdout",
     "output_type": "stream",
     "text": [
      "Top 5 vehicle-id's contribution to total cost of error amount :  99.45066291635504 . We can see that nearly total cost of error has been made from top 5 vehicle id-s so validating the reason behind the poor perfomance from those vehicles and sorting out the issues will create a major impact on reducing the car cancellation\n"
     ]
    }
   ],
   "source": [
    "print(\"Top 5 vehicle-id's contribution to total cost of error amount : \"  ,(cancellation_by_vehicle['Cost_of_error'].head(5).sum() / cancellation_by_vehicle['Cost_of_error'].sum())*100, \". We can see that nearly total cost of error has been made from top 5 vehicle id-s so validating the reason behind the poor perfomance from those vehicles and sorting out the issues will create a major impact on reducing the car cancellation\")"
   ]
  },
  {
   "cell_type": "code",
   "execution_count": 49,
   "id": "4fe1c90a",
   "metadata": {},
   "outputs": [
    {
     "name": "stdout",
     "output_type": "stream",
     "text": [
      "Correlation between time gap and Car_Cancellation: 0.02\n"
     ]
    }
   ],
   "source": [
    "df['booking_created'] = pd.to_datetime(df['booking_created'])\n",
    "df['from_date'] = pd.to_datetime(df['from_date'])\n",
    "df['time_gap'] = (df['from_date'] - df['booking_created']).dt.total_seconds()\n",
    "correlation_time_gap = df['time_gap'].corr(df['Car_Cancellation'])\n",
    "print(f\"Correlation between time gap and Car_Cancellation: {correlation_time_gap:.2f}\")\n"
   ]
  },
  {
   "cell_type": "markdown",
   "id": "c2f0e342",
   "metadata": {},
   "source": [
    "Its been proved that there is positive co-relationship between time gap and car_cancellation. More the time takes to completed the ride the more the cancelation increases for new customers due to car un-availability"
   ]
  },
  {
   "cell_type": "code",
   "execution_count": 50,
   "id": "ccce2564",
   "metadata": {},
   "outputs": [
    {
     "name": "stdout",
     "output_type": "stream",
     "text": [
      "Axes(0.125,0.11;0.775x0.77)\n"
     ]
    },
    {
     "data": {
      "image/png": "[encoded data removed]",
      "text/plain": [
       "<Figure size 640x480 with 1 Axes>"
      ]
     },
     "metadata": {},
     "output_type": "display_data"
    }
   ],
   "source": [
    "df['from_date'] = pd.to_datetime(df['from_date'])\n",
    "df['weekday'] = df['from_date'].dt.day_name()\n",
    "cancellation_by_weekday = df.groupby('weekday')['Car_Cancellation'].sum()\n",
    "print(cancellation_by_weekday.plot(kind='line'))\n"
   ]
  },
  {
   "cell_type": "markdown",
   "id": "b830a828",
   "metadata": {},
   "source": [
    "From line chart, we can see the no of cancellation is high over the pre-weekend days and weekend days is higher compared to weekdays - Friday,Saturday,Sunday is higher than other days.\n",
    "\n",
    "Also from previous analysis we can see that most of the customers are getting cancelled of travel type is point to point and minimum distance and time consuming travel rides. \n",
    "\n",
    "In week-ends most of the rides have benn booked for the long trip hence the car isnt available to most of customers for point to point travel rides"
   ]
  },
  {
   "cell_type": "code",
   "execution_count": 51,
   "id": "a58587cf",
   "metadata": {},
   "outputs": [
    {
     "name": "stdout",
     "output_type": "stream",
     "text": [
      "Axes(0.125,0.11;0.775x0.77)\n"
     ]
    },
    {
     "data": {
      "image/png": "[encoded data removed]",
      "text/plain": [
       "<Figure size 640x480 with 1 Axes>"
      ]
     },
     "metadata": {},
     "output_type": "display_data"
    }
   ],
   "source": [
    "df['hour'] = df['from_date'].dt.hour\n",
    "cancellation_by_hour = df.groupby('hour')['Car_Cancellation'].sum()\n",
    "print(cancellation_by_hour.plot(kind='line'))"
   ]
  },
  {
   "cell_type": "markdown",
   "id": "1f2908b8",
   "metadata": {},
   "source": [
    "We can see that total cancelled rides is higher after 16:00 PM(Evening 7 PM)."
   ]
  },
  {
   "cell_type": "code",
   "execution_count": 52,
   "id": "d22e3e6d",
   "metadata": {},
   "outputs": [
    {
     "data": {
      "text/plain": [
       "<Axes: >"
      ]
     },
     "execution_count": 52,
     "metadata": {},
     "output_type": "execute_result"
    },
    {
     "data": {
      "image/png": "[encoded data removed]",
      "text/plain": [
       "<Figure size 640x480 with 2 Axes>"
      ]
     },
     "metadata": {},
     "output_type": "display_data"
    }
   ],
   "source": [
    "booking_frequency = df['user_id'].value_counts()\n",
    "user_cancellation_rate = df.groupby('user_id')['Car_Cancellation'].mean()\n",
    "booking_cancellation_corr = pd.concat([booking_frequency, user_cancellation_rate], axis=1)\n",
    "sns.heatmap(booking_cancellation_corr.corr())\n"
   ]
  },
  {
   "cell_type": "markdown",
   "id": "7633c918",
   "metadata": {},
   "source": [
    "As per heatmap, it clearly indictes customer unique user id and car cancellation is not proportional/related to each other"
   ]
  },
  {
   "cell_type": "code",
   "execution_count": 53,
   "id": "c5794e2e",
   "metadata": {},
   "outputs": [
    {
     "data": {
      "text/plain": [
       "Text(0.5, 0, 'Date')"
      ]
     },
     "execution_count": 53,
     "metadata": {},
     "output_type": "execute_result"
    },
    {
     "data": {
      "image/png": "[encoded data removed]",
      "text/plain": [
       "<Figure size 640x480 with 1 Axes>"
      ]
     },
     "metadata": {},
     "output_type": "display_data"
    }
   ],
   "source": [
    "df['from_date'] = pd.to_datetime(df['from_date'])\n",
    "cancellation_over_time = df.set_index('from_date')['Car_Cancellation'].resample('M').sum()\n",
    "cancellation_over_time.plot(kind='area')\n",
    "plt.xlabel('Date')\n"
   ]
  },
  {
   "cell_type": "markdown",
   "id": "ddb5fbeb",
   "metadata": {},
   "source": [
    "From Aug 13 to Dc 2014, saw a major high in no of car cancellation rides in the year- end."
   ]
  },
  {
   "cell_type": "markdown",
   "id": "1beb9a27",
   "metadata": {},
   "source": [
    "# Splitting the Dataset"
   ]
  },
  {
   "cell_type": "code",
   "execution_count": 54,
   "id": "ffa3f496",
   "metadata": {},
   "outputs": [],
   "source": [
    "X = merged_df.drop(columns='Car_Cancellation', axis=1)\n",
    "Y = merged_df['Car_Cancellation']"
   ]
  },
  {
   "cell_type": "code",
   "execution_count": 55,
   "id": "86fcdb23",
   "metadata": {},
   "outputs": [
    {
     "data": {
      "text/plain": [
       "Index(['vehicle_model_id', 'travel_type_id', 'package_id', 'from_area_id',\n",
       "       'to_area_id', 'from_city_id', 'online_booking', 'mobile_site_booking',\n",
       "       'Cost_of_error'],\n",
       "      dtype='object')"
      ]
     },
     "execution_count": 55,
     "metadata": {},
     "output_type": "execute_result"
    }
   ],
   "source": [
    "X.columns"
   ]
  },
  {
   "cell_type": "code",
   "execution_count": 56,
   "id": "e26866ec",
   "metadata": {},
   "outputs": [],
   "source": [
    "X = X[['vehicle_model_id', 'travel_type_id', 'package_id', 'from_area_id',\n",
    "       'to_area_id', 'from_city_id', 'online_booking', 'mobile_site_booking',\n",
    "       'Cost_of_error']]"
   ]
  },
  {
   "cell_type": "code",
   "execution_count": 57,
   "id": "e3cff1d1",
   "metadata": {},
   "outputs": [],
   "source": [
    "x_train, x_test, y_train, y_test = train_test_split(X, Y, test_size=0.2, stratify=Y, random_state=2)"
   ]
  },
  {
   "cell_type": "markdown",
   "id": "e35109cc",
   "metadata": {},
   "source": [
    "# Building and training diffrent models"
   ]
  },
  {
   "cell_type": "code",
   "execution_count": 103,
   "id": "71b661cd",
   "metadata": {},
   "outputs": [
    {
     "name": "stderr",
     "output_type": "stream",
     "text": [
      "C:\\Users\\Welcome\\anaconda3\\Lib\\site-packages\\sklearn\\linear_model\\_logistic.py:460: ConvergenceWarning: lbfgs failed to converge (status=1):\n",
      "STOP: TOTAL NO. of ITERATIONS REACHED LIMIT.\n",
      "\n",
      "Increase the number of iterations (max_iter) or scale the data as shown in:\n",
      "    https://scikit-learn.org/stable/modules/preprocessing.html\n",
      "Please also refer to the documentation for alternative solver options:\n",
      "    https://scikit-learn.org/stable/modules/linear_model.html#logistic-regression\n",
      "  n_iter_i = _check_optimize_result(\n",
      "C:\\Users\\Welcome\\anaconda3\\Lib\\site-packages\\sklearn\\linear_model\\_logistic.py:460: ConvergenceWarning: lbfgs failed to converge (status=1):\n",
      "STOP: TOTAL NO. of ITERATIONS REACHED LIMIT.\n",
      "\n",
      "Increase the number of iterations (max_iter) or scale the data as shown in:\n",
      "    https://scikit-learn.org/stable/modules/preprocessing.html\n",
      "Please also refer to the documentation for alternative solver options:\n",
      "    https://scikit-learn.org/stable/modules/linear_model.html#logistic-regression\n",
      "  n_iter_i = _check_optimize_result(\n",
      "C:\\Users\\Welcome\\anaconda3\\Lib\\site-packages\\sklearn\\linear_model\\_logistic.py:460: ConvergenceWarning: lbfgs failed to converge (status=1):\n",
      "STOP: TOTAL NO. of ITERATIONS REACHED LIMIT.\n",
      "\n",
      "Increase the number of iterations (max_iter) or scale the data as shown in:\n",
      "    https://scikit-learn.org/stable/modules/preprocessing.html\n",
      "Please also refer to the documentation for alternative solver options:\n",
      "    https://scikit-learn.org/stable/modules/linear_model.html#logistic-regression\n",
      "  n_iter_i = _check_optimize_result(\n",
      "C:\\Users\\Welcome\\anaconda3\\Lib\\site-packages\\sklearn\\linear_model\\_logistic.py:460: ConvergenceWarning: lbfgs failed to converge (status=1):\n",
      "STOP: TOTAL NO. of ITERATIONS REACHED LIMIT.\n",
      "\n",
      "Increase the number of iterations (max_iter) or scale the data as shown in:\n",
      "    https://scikit-learn.org/stable/modules/preprocessing.html\n",
      "Please also refer to the documentation for alternative solver options:\n",
      "    https://scikit-learn.org/stable/modules/linear_model.html#logistic-regression\n",
      "  n_iter_i = _check_optimize_result(\n",
      "C:\\Users\\Welcome\\anaconda3\\Lib\\site-packages\\sklearn\\linear_model\\_logistic.py:460: ConvergenceWarning: lbfgs failed to converge (status=1):\n",
      "STOP: TOTAL NO. of ITERATIONS REACHED LIMIT.\n",
      "\n",
      "Increase the number of iterations (max_iter) or scale the data as shown in:\n",
      "    https://scikit-learn.org/stable/modules/preprocessing.html\n",
      "Please also refer to the documentation for alternative solver options:\n",
      "    https://scikit-learn.org/stable/modules/linear_model.html#logistic-regression\n",
      "  n_iter_i = _check_optimize_result(\n",
      "C:\\Users\\Welcome\\anaconda3\\Lib\\site-packages\\sklearn\\linear_model\\_logistic.py:460: ConvergenceWarning: lbfgs failed to converge (status=1):\n",
      "STOP: TOTAL NO. of ITERATIONS REACHED LIMIT.\n",
      "\n",
      "Increase the number of iterations (max_iter) or scale the data as shown in:\n",
      "    https://scikit-learn.org/stable/modules/preprocessing.html\n",
      "Please also refer to the documentation for alternative solver options:\n",
      "    https://scikit-learn.org/stable/modules/linear_model.html#logistic-regression\n",
      "  n_iter_i = _check_optimize_result(\n"
     ]
    },
    {
     "name": "stdout",
     "output_type": "stream",
     "text": [
      "Logistic Regression accuracy: 0.996 +/- 0.001\n",
      "Accuracy: 0.996\n",
      "Precision: 1.000\n",
      "Recall: 0.992\n",
      "F1-score: 0.996\n",
      "\n",
      "Decision Tree accuracy: 1.000 +/- 0.000\n",
      "Accuracy: 1.000\n",
      "Precision: 1.000\n",
      "Recall: 1.000\n",
      "F1-score: 1.000\n",
      "\n",
      "Random Forest accuracy: 0.999 +/- 0.001\n",
      "Accuracy: 0.998\n",
      "Precision: 1.000\n",
      "Recall: 0.997\n",
      "F1-score: 0.998\n",
      "\n",
      "SVM accuracy: 0.989 +/- 0.004\n",
      "Accuracy: 0.989\n",
      "Precision: 1.000\n",
      "Recall: 0.978\n",
      "F1-score: 0.989\n",
      "\n",
      "GradientBoostingClassifier accuracy: 1.000 +/- 0.000\n",
      "Accuracy: 1.000\n",
      "Precision: 1.000\n",
      "Recall: 1.000\n",
      "F1-score: 1.000\n",
      "\n",
      "AdaBoostClassifier accuracy: 1.000 +/- 0.000\n",
      "Accuracy: 1.000\n",
      "Precision: 1.000\n",
      "Recall: 1.000\n",
      "F1-score: 1.000\n",
      "\n"
     ]
    }
   ],
   "source": [
    "# Initialize the models\n",
    "models = {\n",
    "    'Logistic Regression': LogisticRegression(),\n",
    "    'Decision Tree': DecisionTreeClassifier(),\n",
    "    'Random Forest': RandomForestClassifier(),\n",
    "    'SVM': SVC(),\n",
    "    'GradientBoostingClassifier':GradientBoostingClassifier(),\n",
    "    'AdaBoostClassifier':AdaBoostClassifier()\n",
    "    \n",
    "}\n",
    "\n",
    "# Train and evaluate each model using cross-validation\n",
    "for name, model in models.items():\n",
    "    scores = cross_val_score(model, x_train, y_train, cv=5, scoring='accuracy')\n",
    "    print(f\"{name} accuracy: {scores.mean():.3f} +/- {scores.std():.3f}\")\n",
    "    \n",
    "    # Fit the model to the full training set and make predictions on the test set\n",
    "    model.fit(x_train, y_train)\n",
    "    y_pred = model.predict(x_test)\n",
    "    \n",
    "    # Evaluate the model on the test set\n",
    "    acc = accuracy_score(y_test, y_pred)\n",
    "    prec = precision_score(y_test, y_pred)\n",
    "    rec = recall_score(y_test, y_pred)\n",
    "    f1 = f1_score(y_test, y_pred)\n",
    "    \n",
    "    print(f\"Accuracy: {acc:.3f}\")\n",
    "    print(f\"Precision: {prec:.3f}\")\n",
    "    print(f\"Recall: {rec:.3f}\")\n",
    "    print(f\"F1-score: {f1:.3f}\")\n",
    "    print()"
   ]
  },
  {
   "cell_type": "markdown",
   "id": "8b45f33e",
   "metadata": {},
   "source": [
    "# We can see that the least performing model here is logistic regression, previously shortlisted features based on their co-relation car-cancellation feature. \n",
    "\n",
    "# Choosing Logistic Regression here because in-spite of the model being the least perfomance model compared to other, wanted to implement feature engineering calculation and validate how much the model perfomance is increasing its efficiency.\n",
    "\n",
    "# Now we will perform feature selection based on their roc_auc_score then will build logistic regression to increase the effectiveness of precision ."
   ]
  },
  {
   "cell_type": "markdown",
   "id": "5cf9dd38",
   "metadata": {},
   "source": [
    "# Feature Engineering Selection"
   ]
  },
  {
   "cell_type": "code",
   "execution_count": 59,
   "id": "20284392",
   "metadata": {},
   "outputs": [
    {
     "data": {
      "text/html": [
       "<div>\n",
       "<style scoped>\n",
       "    .dataframe tbody tr th:only-of-type {\n",
       "        vertical-align: middle;\n",
       "    }\n",
       "\n",
       "    .dataframe tbody tr th {\n",
       "        vertical-align: top;\n",
       "    }\n",
       "\n",
       "    .dataframe thead th {\n",
       "        text-align: right;\n",
       "    }\n",
       "</style>\n",
       "<table border=\"1\" class=\"dataframe\">\n",
       "  <thead>\n",
       "    <tr style=\"text-align: right;\">\n",
       "      <th></th>\n",
       "      <th>vehicle_model_id</th>\n",
       "      <th>travel_type_id</th>\n",
       "      <th>package_id</th>\n",
       "      <th>from_area_id</th>\n",
       "      <th>to_area_id</th>\n",
       "      <th>from_city_id</th>\n",
       "      <th>online_booking</th>\n",
       "      <th>mobile_site_booking</th>\n",
       "      <th>Car_Cancellation</th>\n",
       "      <th>Cost_of_error</th>\n",
       "    </tr>\n",
       "  </thead>\n",
       "  <tbody>\n",
       "    <tr>\n",
       "      <th>19491</th>\n",
       "      <td>12</td>\n",
       "      <td>3</td>\n",
       "      <td>2.000000</td>\n",
       "      <td>182.0</td>\n",
       "      <td>669.490917</td>\n",
       "      <td>14.915081</td>\n",
       "      <td>0</td>\n",
       "      <td>0</td>\n",
       "      <td>0</td>\n",
       "      <td>1.0</td>\n",
       "    </tr>\n",
       "    <tr>\n",
       "      <th>30490</th>\n",
       "      <td>12</td>\n",
       "      <td>3</td>\n",
       "      <td>1.000000</td>\n",
       "      <td>344.0</td>\n",
       "      <td>669.490917</td>\n",
       "      <td>15.000000</td>\n",
       "      <td>0</td>\n",
       "      <td>0</td>\n",
       "      <td>0</td>\n",
       "      <td>1.0</td>\n",
       "    </tr>\n",
       "    <tr>\n",
       "      <th>11390</th>\n",
       "      <td>12</td>\n",
       "      <td>2</td>\n",
       "      <td>2.030066</td>\n",
       "      <td>393.0</td>\n",
       "      <td>142.000000</td>\n",
       "      <td>14.915081</td>\n",
       "      <td>0</td>\n",
       "      <td>0</td>\n",
       "      <td>0</td>\n",
       "      <td>1.0</td>\n",
       "    </tr>\n",
       "  </tbody>\n",
       "</table>\n",
       "</div>"
      ],
      "text/plain": [
       "       vehicle_model_id  travel_type_id  package_id  from_area_id  to_area_id  \\\n",
       "19491                12               3    2.000000         182.0  669.490917   \n",
       "30490                12               3    1.000000         344.0  669.490917   \n",
       "11390                12               2    2.030066         393.0  142.000000   \n",
       "\n",
       "       from_city_id  online_booking  mobile_site_booking  Car_Cancellation  \\\n",
       "19491     14.915081               0                    0                 0   \n",
       "30490     15.000000               0                    0                 0   \n",
       "11390     14.915081               0                    0                 0   \n",
       "\n",
       "       Cost_of_error  \n",
       "19491            1.0  \n",
       "30490            1.0  \n",
       "11390            1.0  "
      ]
     },
     "execution_count": 59,
     "metadata": {},
     "output_type": "execute_result"
    }
   ],
   "source": [
    "merged_df.head(3)"
   ]
  },
  {
   "cell_type": "code",
   "execution_count": 63,
   "id": "ee1ad00d",
   "metadata": {},
   "outputs": [],
   "source": [
    "train,test = train_test_split(merged_df,test_size = 0.3,random_state=101)"
   ]
  },
  {
   "cell_type": "code",
   "execution_count": 67,
   "id": "315d44cf",
   "metadata": {},
   "outputs": [
    {
     "name": "stdout",
     "output_type": "stream",
     "text": [
      "Optimization terminated successfully.\n",
      "         Current function value: 0.021154\n",
      "         Iterations 17\n",
      "Optimization terminated successfully.\n",
      "         Current function value: 0.693136\n",
      "         Iterations 3\n",
      "Optimization terminated successfully.\n",
      "         Current function value: 0.675888\n",
      "         Iterations 7\n",
      "Optimization terminated successfully.\n",
      "         Current function value: 0.689506\n",
      "         Iterations 4\n",
      "Optimization terminated successfully.\n",
      "         Current function value: 0.652592\n",
      "         Iterations 4\n",
      "Optimization terminated successfully.\n",
      "         Current function value: 0.692669\n",
      "         Iterations 4\n",
      "Optimization terminated successfully.\n",
      "         Current function value: 0.688171\n",
      "         Iterations 4\n",
      "Optimization terminated successfully.\n",
      "         Current function value: 0.690466\n",
      "         Iterations 4\n",
      "Optimization terminated successfully.\n",
      "         Current function value: 0.689169\n",
      "         Iterations 4\n"
     ]
    },
    {
     "data": {
      "text/html": [
       "<div>\n",
       "<style scoped>\n",
       "    .dataframe tbody tr th:only-of-type {\n",
       "        vertical-align: middle;\n",
       "    }\n",
       "\n",
       "    .dataframe tbody tr th {\n",
       "        vertical-align: top;\n",
       "    }\n",
       "\n",
       "    .dataframe thead th {\n",
       "        text-align: right;\n",
       "    }\n",
       "</style>\n",
       "<table border=\"1\" class=\"dataframe\">\n",
       "  <thead>\n",
       "    <tr style=\"text-align: right;\">\n",
       "      <th></th>\n",
       "      <th>Feature</th>\n",
       "      <th>ROC_AUC_SCORE</th>\n",
       "      <th>SomarsD</th>\n",
       "    </tr>\n",
       "  </thead>\n",
       "  <tbody>\n",
       "    <tr>\n",
       "      <th>0</th>\n",
       "      <td>Cost_of_error</td>\n",
       "      <td>0.995446</td>\n",
       "      <td>0.990893</td>\n",
       "    </tr>\n",
       "    <tr>\n",
       "      <th>0</th>\n",
       "      <td>from_area_id</td>\n",
       "      <td>0.500425</td>\n",
       "      <td>0.00085</td>\n",
       "    </tr>\n",
       "    <tr>\n",
       "      <th>0</th>\n",
       "      <td>from_city_id</td>\n",
       "      <td>0.591289</td>\n",
       "      <td>0.182578</td>\n",
       "    </tr>\n",
       "    <tr>\n",
       "      <th>0</th>\n",
       "      <td>mobile_site_booking</td>\n",
       "      <td>0.521768</td>\n",
       "      <td>0.043536</td>\n",
       "    </tr>\n",
       "    <tr>\n",
       "      <th>0</th>\n",
       "      <td>online_booking</td>\n",
       "      <td>0.641033</td>\n",
       "      <td>0.282067</td>\n",
       "    </tr>\n",
       "    <tr>\n",
       "      <th>0</th>\n",
       "      <td>package_id</td>\n",
       "      <td>0.533588</td>\n",
       "      <td>0.067176</td>\n",
       "    </tr>\n",
       "    <tr>\n",
       "      <th>0</th>\n",
       "      <td>to_area_id</td>\n",
       "      <td>0.550591</td>\n",
       "      <td>0.101182</td>\n",
       "    </tr>\n",
       "    <tr>\n",
       "      <th>0</th>\n",
       "      <td>travel_type_id</td>\n",
       "      <td>0.530046</td>\n",
       "      <td>0.060092</td>\n",
       "    </tr>\n",
       "    <tr>\n",
       "      <th>0</th>\n",
       "      <td>vehicle_model_id</td>\n",
       "      <td>0.555124</td>\n",
       "      <td>0.110248</td>\n",
       "    </tr>\n",
       "  </tbody>\n",
       "</table>\n",
       "</div>"
      ],
      "text/plain": [
       "               Feature ROC_AUC_SCORE   SomarsD\n",
       "0        Cost_of_error      0.995446  0.990893\n",
       "0         from_area_id      0.500425   0.00085\n",
       "0         from_city_id      0.591289  0.182578\n",
       "0  mobile_site_booking      0.521768  0.043536\n",
       "0       online_booking      0.641033  0.282067\n",
       "0           package_id      0.533588  0.067176\n",
       "0           to_area_id      0.550591  0.101182\n",
       "0       travel_type_id      0.530046  0.060092\n",
       "0     vehicle_model_id      0.555124  0.110248"
      ]
     },
     "execution_count": 67,
     "metadata": {},
     "output_type": "execute_result"
    }
   ],
   "source": [
    "t_df = pd.DataFrame()\n",
    "for var_name in train.columns.difference(['Car_Cancellation']):\n",
    "    \n",
    "    model = smf.logit(formula = 'Car_Cancellation ~ ' + var_name,data = train).fit()\n",
    "    \n",
    "    y_predicted = model.predict(train)\n",
    "    \n",
    "    r_score = roc_auc_score(train.Car_Cancellation,y_predicted)\n",
    "    \n",
    "    sms = 2 * r_score - 1\n",
    "    \n",
    "    temp_df = pd.DataFrame([var_name,r_score,sms]).T\n",
    "    \n",
    "    t_df = pd.concat([t_df,temp_df],axis=0)\n",
    "\n",
    "t_df.columns = ['Feature', 'ROC_AUC_SCORE', 'SomarsD']\n",
    "t_df"
   ]
  },
  {
   "cell_type": "code",
   "execution_count": 70,
   "id": "319b05ee",
   "metadata": {},
   "outputs": [],
   "source": [
    "df_2 = list(t_df.loc[t_df['SomarsD'] >=0.1,'Feature'])"
   ]
  },
  {
   "cell_type": "code",
   "execution_count": 71,
   "id": "9aef15ec",
   "metadata": {},
   "outputs": [
    {
     "data": {
      "text/plain": [
       "['Cost_of_error',\n",
       " 'from_city_id',\n",
       " 'online_booking',\n",
       " 'to_area_id',\n",
       " 'vehicle_model_id']"
      ]
     },
     "execution_count": 71,
     "metadata": {},
     "output_type": "execute_result"
    }
   ],
   "source": [
    "df_2"
   ]
  },
  {
   "cell_type": "code",
   "execution_count": 73,
   "id": "42a6c44e",
   "metadata": {},
   "outputs": [
    {
     "name": "stdout",
     "output_type": "stream",
     "text": [
      "Optimization terminated successfully.\n",
      "         Current function value: 0.020626\n",
      "         Iterations 17\n"
     ]
    }
   ],
   "source": [
    "lm_1 = smf.logit(formula = 'Car_Cancellation ~ ' + '+'.join(df_2),data=train).fit()"
   ]
  },
  {
   "cell_type": "code",
   "execution_count": 74,
   "id": "013f2868",
   "metadata": {},
   "outputs": [
    {
     "name": "stdout",
     "output_type": "stream",
     "text": [
      "                           Logit Regression Results                           \n",
      "==============================================================================\n",
      "Dep. Variable:       Car_Cancellation   No. Observations:                 4384\n",
      "Model:                          Logit   Df Residuals:                     4378\n",
      "Method:                           MLE   Df Model:                            5\n",
      "Date:                Sun, 19 Nov 2023   Pseudo R-squ.:                  0.9702\n",
      "Time:                        14:57:28   Log-Likelihood:                -90.425\n",
      "converged:                       True   LL-Null:                       -3038.7\n",
      "Covariance Type:            nonrobust   LLR p-value:                     0.000\n",
      "====================================================================================\n",
      "                       coef    std err          z      P>|z|      [0.025      0.975]\n",
      "------------------------------------------------------------------------------------\n",
      "Intercept           -9.5684     12.072     -0.793      0.428     -33.229      14.093\n",
      "Cost_of_error        2.7061      0.514      5.265      0.000       1.699       3.713\n",
      "from_city_id         0.0624      0.806      0.077      0.938      -1.517       1.642\n",
      "online_booking      -0.3392      0.585     -0.579      0.562      -1.487       0.808\n",
      "to_area_id           0.0014      0.001      2.059      0.040    6.68e-05       0.003\n",
      "vehicle_model_id    -0.0007      0.010     -0.077      0.939      -0.019       0.018\n",
      "====================================================================================\n",
      "\n",
      "Possibly complete quasi-separation: A fraction 0.50 of observations can be\n",
      "perfectly predicted. This might indicate that there is complete\n",
      "quasi-separation. In this case some parameters will not be identified.\n"
     ]
    }
   ],
   "source": [
    "print(lm_1.summary())"
   ]
  },
  {
   "cell_type": "code",
   "execution_count": 76,
   "id": "e6f63769",
   "metadata": {},
   "outputs": [
    {
     "name": "stdout",
     "output_type": "stream",
     "text": [
      "Train Score :  0.9959018474673913\n",
      "Test Score :  0.9977738392727801\n"
     ]
    }
   ],
   "source": [
    "train_score = roc_auc_score(train.Car_Cancellation,lm_1.predict(train))\n",
    "test_score = roc_auc_score(test.Car_Cancellation,lm_1.predict(test))\n",
    "\n",
    "print(\"Train Score : \",train_score)\n",
    "print(\"Test Score : \",test_score)"
   ]
  },
  {
   "cell_type": "code",
   "execution_count": 79,
   "id": "87ed70e7",
   "metadata": {},
   "outputs": [],
   "source": [
    "train_predicted_prob = pd.DataFrame(lm_1.predict(train))\n",
    "\n",
    "train_df = pd.concat([train.Car_Cancellation,train_predicted_prob],axis=1)\n",
    "\n",
    "train_df.columns = ['actual','prob']\n",
    "\n",
    "test_predicted_prob = pd.DataFrame(lm_1.predict(test))\n",
    "\n",
    "test_df = pd.concat([test.Car_Cancellation,test_predicted_prob],axis=1)\n",
    "\n",
    "test_df.columns = ['actual','prob']"
   ]
  },
  {
   "cell_type": "code",
   "execution_count": 80,
   "id": "54520c9b",
   "metadata": {},
   "outputs": [],
   "source": [
    "train_df_1 = pd.DataFrame()\n",
    "\n",
    "for i in np.arange(0,1.01,0.01):\n",
    "    \n",
    "    train_df['predicted'] = train_df.prob.apply(lambda x : 1 if x > i else 0)\n",
    "    \n",
    "    cm = confusion_matrix(train_df.actual,train_df.predicted)\n",
    "    \n",
    "    tp = cm[1,1]\n",
    "    tn = cm[0,0]\n",
    "    fp = cm[0,1]\n",
    "    fn = cm[1,0]\n",
    "    \n",
    "    tpr = tp / (tp+fn)\n",
    "    fpr = fp / (tn+fp)\n",
    "    specificity = 1 - fpr\n",
    "    ss = tpr + specificity\n",
    "    accuracy = (tp + tn)/train_df.shape[0]\n",
    "    \n",
    "    temp_df = pd.DataFrame([i,tp,tn,fp,fn,tpr,fpr,specificity,accuracy,ss]).T\n",
    "    \n",
    "    train_df_1 = pd.concat([train_df_1,temp_df],axis = 0)\n",
    "    \n",
    "train_df_1.columns = ['p','tp','tn','fp','fn','tpr','fpr','specificity','accuracy','ss']\n",
    "    "
   ]
  },
  {
   "cell_type": "code",
   "execution_count": 81,
   "id": "3ff891f6",
   "metadata": {},
   "outputs": [
    {
     "data": {
      "text/plain": [
       "0    0.02\n",
       "0    0.03\n",
       "Name: p, dtype: float64"
      ]
     },
     "execution_count": 81,
     "metadata": {},
     "output_type": "execute_result"
    }
   ],
   "source": [
    "train_df_1.loc[train_df_1.ss == train_df_1.ss.max(),'p']"
   ]
  },
  {
   "cell_type": "code",
   "execution_count": 82,
   "id": "448e6724",
   "metadata": {},
   "outputs": [],
   "source": [
    "test['prob'] = lm_1.predict(test)"
   ]
  },
  {
   "cell_type": "code",
   "execution_count": 83,
   "id": "08921c08",
   "metadata": {},
   "outputs": [],
   "source": [
    "test['predicted'] = test.prob.apply(lambda x : 1 if x >= 0.02 else 0)"
   ]
  },
  {
   "cell_type": "code",
   "execution_count": 85,
   "id": "65aed619",
   "metadata": {},
   "outputs": [
    {
     "data": {
      "text/plain": [
       "0.9978632478632479"
      ]
     },
     "execution_count": 85,
     "metadata": {},
     "output_type": "execute_result"
    }
   ],
   "source": [
    "roc_auc_score(test.Car_Cancellation,test.predicted)"
   ]
  },
  {
   "cell_type": "code",
   "execution_count": 86,
   "id": "ac6efa86",
   "metadata": {},
   "outputs": [],
   "source": [
    "df_new['prob'] = lm_1.predict(df_new)"
   ]
  },
  {
   "cell_type": "code",
   "execution_count": 87,
   "id": "b1729fb2",
   "metadata": {},
   "outputs": [],
   "source": [
    "df_new['predicted'] = df_new.prob.apply(lambda x : 1 if x >= 0.26 else 0)"
   ]
  },
  {
   "cell_type": "code",
   "execution_count": 89,
   "id": "5504a474",
   "metadata": {},
   "outputs": [
    {
     "data": {
      "text/plain": [
       "0.9969667943805876"
      ]
     },
     "execution_count": 89,
     "metadata": {},
     "output_type": "execute_result"
    }
   ],
   "source": [
    "roc_auc_score(df_new.Car_Cancellation,df_new.predicted)"
   ]
  },
  {
   "cell_type": "markdown",
   "id": "acb73488",
   "metadata": {},
   "source": [
    "# Builded a model to predict the car-cancellation rides due to unavailability after data cleansing and analyzin the data and performing feature selection to increase the efficiency and performance of the model. Model is builded up with 99.6% "
   ]
  },
  {
   "cell_type": "code",
   "execution_count": 104,
   "id": "c8d31262",
   "metadata": {},
   "outputs": [
    {
     "data": {
      "text/html": [
       "<div>\n",
       "<style scoped>\n",
       "    .dataframe tbody tr th:only-of-type {\n",
       "        vertical-align: middle;\n",
       "    }\n",
       "\n",
       "    .dataframe tbody tr th {\n",
       "        vertical-align: top;\n",
       "    }\n",
       "\n",
       "    .dataframe thead th {\n",
       "        text-align: right;\n",
       "    }\n",
       "</style>\n",
       "<table border=\"1\" class=\"dataframe\">\n",
       "  <thead>\n",
       "    <tr style=\"text-align: right;\">\n",
       "      <th></th>\n",
       "      <th>vehicle_model_id</th>\n",
       "      <th>travel_type_id</th>\n",
       "      <th>package_id</th>\n",
       "      <th>from_area_id</th>\n",
       "      <th>to_area_id</th>\n",
       "      <th>from_city_id</th>\n",
       "      <th>online_booking</th>\n",
       "      <th>mobile_site_booking</th>\n",
       "      <th>Cost_of_error</th>\n",
       "    </tr>\n",
       "  </thead>\n",
       "  <tbody>\n",
       "    <tr>\n",
       "      <th>19491</th>\n",
       "      <td>12</td>\n",
       "      <td>3</td>\n",
       "      <td>2.000000</td>\n",
       "      <td>182.0</td>\n",
       "      <td>669.490917</td>\n",
       "      <td>14.915081</td>\n",
       "      <td>0</td>\n",
       "      <td>0</td>\n",
       "      <td>1.0</td>\n",
       "    </tr>\n",
       "    <tr>\n",
       "      <th>30490</th>\n",
       "      <td>12</td>\n",
       "      <td>3</td>\n",
       "      <td>1.000000</td>\n",
       "      <td>344.0</td>\n",
       "      <td>669.490917</td>\n",
       "      <td>15.000000</td>\n",
       "      <td>0</td>\n",
       "      <td>0</td>\n",
       "      <td>1.0</td>\n",
       "    </tr>\n",
       "    <tr>\n",
       "      <th>11390</th>\n",
       "      <td>12</td>\n",
       "      <td>2</td>\n",
       "      <td>2.030066</td>\n",
       "      <td>393.0</td>\n",
       "      <td>142.000000</td>\n",
       "      <td>14.915081</td>\n",
       "      <td>0</td>\n",
       "      <td>0</td>\n",
       "      <td>1.0</td>\n",
       "    </tr>\n",
       "    <tr>\n",
       "      <th>3033</th>\n",
       "      <td>12</td>\n",
       "      <td>2</td>\n",
       "      <td>2.030066</td>\n",
       "      <td>585.0</td>\n",
       "      <td>767.000000</td>\n",
       "      <td>14.915081</td>\n",
       "      <td>0</td>\n",
       "      <td>0</td>\n",
       "      <td>1.0</td>\n",
       "    </tr>\n",
       "    <tr>\n",
       "      <th>971</th>\n",
       "      <td>12</td>\n",
       "      <td>2</td>\n",
       "      <td>2.030066</td>\n",
       "      <td>585.0</td>\n",
       "      <td>58.000000</td>\n",
       "      <td>14.915081</td>\n",
       "      <td>0</td>\n",
       "      <td>0</td>\n",
       "      <td>1.0</td>\n",
       "    </tr>\n",
       "    <tr>\n",
       "      <th>...</th>\n",
       "      <td>...</td>\n",
       "      <td>...</td>\n",
       "      <td>...</td>\n",
       "      <td>...</td>\n",
       "      <td>...</td>\n",
       "      <td>...</td>\n",
       "      <td>...</td>\n",
       "      <td>...</td>\n",
       "      <td>...</td>\n",
       "    </tr>\n",
       "    <tr>\n",
       "      <th>43406</th>\n",
       "      <td>12</td>\n",
       "      <td>3</td>\n",
       "      <td>3.000000</td>\n",
       "      <td>136.0</td>\n",
       "      <td>669.490917</td>\n",
       "      <td>15.000000</td>\n",
       "      <td>1</td>\n",
       "      <td>0</td>\n",
       "      <td>100.0</td>\n",
       "    </tr>\n",
       "    <tr>\n",
       "      <th>43408</th>\n",
       "      <td>12</td>\n",
       "      <td>3</td>\n",
       "      <td>3.000000</td>\n",
       "      <td>136.0</td>\n",
       "      <td>669.490917</td>\n",
       "      <td>15.000000</td>\n",
       "      <td>1</td>\n",
       "      <td>0</td>\n",
       "      <td>100.0</td>\n",
       "    </tr>\n",
       "    <tr>\n",
       "      <th>43411</th>\n",
       "      <td>65</td>\n",
       "      <td>3</td>\n",
       "      <td>4.000000</td>\n",
       "      <td>541.0</td>\n",
       "      <td>669.490917</td>\n",
       "      <td>15.000000</td>\n",
       "      <td>0</td>\n",
       "      <td>1</td>\n",
       "      <td>100.0</td>\n",
       "    </tr>\n",
       "    <tr>\n",
       "      <th>43414</th>\n",
       "      <td>12</td>\n",
       "      <td>2</td>\n",
       "      <td>2.030066</td>\n",
       "      <td>376.0</td>\n",
       "      <td>424.000000</td>\n",
       "      <td>15.000000</td>\n",
       "      <td>0</td>\n",
       "      <td>1</td>\n",
       "      <td>100.0</td>\n",
       "    </tr>\n",
       "    <tr>\n",
       "      <th>43422</th>\n",
       "      <td>12</td>\n",
       "      <td>2</td>\n",
       "      <td>2.030066</td>\n",
       "      <td>393.0</td>\n",
       "      <td>269.000000</td>\n",
       "      <td>15.000000</td>\n",
       "      <td>0</td>\n",
       "      <td>0</td>\n",
       "      <td>100.0</td>\n",
       "    </tr>\n",
       "  </tbody>\n",
       "</table>\n",
       "<p>6264 rows × 9 columns</p>\n",
       "</div>"
      ],
      "text/plain": [
       "       vehicle_model_id  travel_type_id  package_id  from_area_id  to_area_id  \\\n",
       "19491                12               3    2.000000         182.0  669.490917   \n",
       "30490                12               3    1.000000         344.0  669.490917   \n",
       "11390                12               2    2.030066         393.0  142.000000   \n",
       "3033                 12               2    2.030066         585.0  767.000000   \n",
       "971                  12               2    2.030066         585.0   58.000000   \n",
       "...                 ...             ...         ...           ...         ...   \n",
       "43406                12               3    3.000000         136.0  669.490917   \n",
       "43408                12               3    3.000000         136.0  669.490917   \n",
       "43411                65               3    4.000000         541.0  669.490917   \n",
       "43414                12               2    2.030066         376.0  424.000000   \n",
       "43422                12               2    2.030066         393.0  269.000000   \n",
       "\n",
       "       from_city_id  online_booking  mobile_site_booking  Cost_of_error  \n",
       "19491     14.915081               0                    0            1.0  \n",
       "30490     15.000000               0                    0            1.0  \n",
       "11390     14.915081               0                    0            1.0  \n",
       "3033      14.915081               0                    0            1.0  \n",
       "971       14.915081               0                    0            1.0  \n",
       "...             ...             ...                  ...            ...  \n",
       "43406     15.000000               1                    0          100.0  \n",
       "43408     15.000000               1                    0          100.0  \n",
       "43411     15.000000               0                    1          100.0  \n",
       "43414     15.000000               0                    1          100.0  \n",
       "43422     15.000000               0                    0          100.0  \n",
       "\n",
       "[6264 rows x 9 columns]"
      ]
     },
     "execution_count": 104,
     "metadata": {},
     "output_type": "execute_result"
    }
   ],
   "source": [
    "X"
   ]
  },
  {
   "cell_type": "code",
   "execution_count": null,
   "id": "fccdba50",
   "metadata": {},
   "outputs": [],
   "source": []
  }
 ],
 "metadata": {
  "kernelspec": {
   "display_name": "Python 3 (ipykernel)",
   "language": "python",
   "name": "python3"
  },
  "language_info": {
   "codemirror_mode": {
    "name": "ipython",
    "version": 3
   },
   "file_extension": ".py",
   "mimetype": "text/x-python",
   "name": "python",
   "nbconvert_exporter": "python",
   "pygments_lexer": "ipython3",
   "version": "3.11.4"
  }
 },
 "nbformat": 4,
 "nbformat_minor": 5
}
